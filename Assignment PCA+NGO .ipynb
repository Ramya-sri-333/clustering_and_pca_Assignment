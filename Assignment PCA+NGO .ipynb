{
 "cells": [
  {
   "cell_type": "markdown",
   "metadata": {},
   "source": [
    "### PCA Clustering Assignment"
   ]
  },
  {
   "cell_type": "code",
   "execution_count": 1,
   "metadata": {},
   "outputs": [],
   "source": [
    "#import all libraries\n",
    "\n",
    "import pandas as pd\n",
    "import numpy as np\n",
    "import pandas as pd\n",
    "\n",
    "import matplotlib.pyplot as plt\n",
    "import seaborn as sns\n",
    "%matplotlib inline\n",
    "\n",
    "from sklearn.preprocessing import scale\n",
    "\n",
    "from sklearn.cluster import KMeans\n",
    "\n",
    "# To perform Hierarchical clustering\n",
    "from scipy.cluster.hierarchy import linkage\n",
    "from scipy.cluster.hierarchy import dendrogram\n",
    "from scipy.cluster.hierarchy import cut_tree"
   ]
  },
  {
   "cell_type": "code",
   "execution_count": 2,
   "metadata": {},
   "outputs": [
    {
     "data": {
      "text/html": [
       "<div>\n",
       "<style scoped>\n",
       "    .dataframe tbody tr th:only-of-type {\n",
       "        vertical-align: middle;\n",
       "    }\n",
       "\n",
       "    .dataframe tbody tr th {\n",
       "        vertical-align: top;\n",
       "    }\n",
       "\n",
       "    .dataframe thead th {\n",
       "        text-align: right;\n",
       "    }\n",
       "</style>\n",
       "<table border=\"1\" class=\"dataframe\">\n",
       "  <thead>\n",
       "    <tr style=\"text-align: right;\">\n",
       "      <th></th>\n",
       "      <th>country</th>\n",
       "      <th>child_mort</th>\n",
       "      <th>exports</th>\n",
       "      <th>health</th>\n",
       "      <th>imports</th>\n",
       "      <th>income</th>\n",
       "      <th>inflation</th>\n",
       "      <th>life_expec</th>\n",
       "      <th>total_fer</th>\n",
       "      <th>gdpp</th>\n",
       "    </tr>\n",
       "  </thead>\n",
       "  <tbody>\n",
       "    <tr>\n",
       "      <th>0</th>\n",
       "      <td>Afghanistan</td>\n",
       "      <td>90.2</td>\n",
       "      <td>10.0</td>\n",
       "      <td>7.58</td>\n",
       "      <td>44.9</td>\n",
       "      <td>1610</td>\n",
       "      <td>9.44</td>\n",
       "      <td>56.2</td>\n",
       "      <td>5.82</td>\n",
       "      <td>553</td>\n",
       "    </tr>\n",
       "    <tr>\n",
       "      <th>1</th>\n",
       "      <td>Albania</td>\n",
       "      <td>16.6</td>\n",
       "      <td>28.0</td>\n",
       "      <td>6.55</td>\n",
       "      <td>48.6</td>\n",
       "      <td>9930</td>\n",
       "      <td>4.49</td>\n",
       "      <td>76.3</td>\n",
       "      <td>1.65</td>\n",
       "      <td>4090</td>\n",
       "    </tr>\n",
       "    <tr>\n",
       "      <th>2</th>\n",
       "      <td>Algeria</td>\n",
       "      <td>27.3</td>\n",
       "      <td>38.4</td>\n",
       "      <td>4.17</td>\n",
       "      <td>31.4</td>\n",
       "      <td>12900</td>\n",
       "      <td>16.10</td>\n",
       "      <td>76.5</td>\n",
       "      <td>2.89</td>\n",
       "      <td>4460</td>\n",
       "    </tr>\n",
       "    <tr>\n",
       "      <th>3</th>\n",
       "      <td>Angola</td>\n",
       "      <td>119.0</td>\n",
       "      <td>62.3</td>\n",
       "      <td>2.85</td>\n",
       "      <td>42.9</td>\n",
       "      <td>5900</td>\n",
       "      <td>22.40</td>\n",
       "      <td>60.1</td>\n",
       "      <td>6.16</td>\n",
       "      <td>3530</td>\n",
       "    </tr>\n",
       "    <tr>\n",
       "      <th>4</th>\n",
       "      <td>Antigua and Barbuda</td>\n",
       "      <td>10.3</td>\n",
       "      <td>45.5</td>\n",
       "      <td>6.03</td>\n",
       "      <td>58.9</td>\n",
       "      <td>19100</td>\n",
       "      <td>1.44</td>\n",
       "      <td>76.8</td>\n",
       "      <td>2.13</td>\n",
       "      <td>12200</td>\n",
       "    </tr>\n",
       "  </tbody>\n",
       "</table>\n",
       "</div>"
      ],
      "text/plain": [
       "               country  child_mort  exports  health  imports  income  \\\n",
       "0          Afghanistan        90.2     10.0    7.58     44.9    1610   \n",
       "1              Albania        16.6     28.0    6.55     48.6    9930   \n",
       "2              Algeria        27.3     38.4    4.17     31.4   12900   \n",
       "3               Angola       119.0     62.3    2.85     42.9    5900   \n",
       "4  Antigua and Barbuda        10.3     45.5    6.03     58.9   19100   \n",
       "\n",
       "   inflation  life_expec  total_fer   gdpp  \n",
       "0       9.44        56.2       5.82    553  \n",
       "1       4.49        76.3       1.65   4090  \n",
       "2      16.10        76.5       2.89   4460  \n",
       "3      22.40        60.1       6.16   3530  \n",
       "4       1.44        76.8       2.13  12200  "
      ]
     },
     "execution_count": 2,
     "metadata": {},
     "output_type": "execute_result"
    }
   ],
   "source": [
    "#Let's read the dataset first\n",
    "dat = pd.read_csv(\"Country-data.csv\")\n",
    "dat.head()"
   ]
  },
  {
   "cell_type": "code",
   "execution_count": 3,
   "metadata": {},
   "outputs": [
    {
     "name": "stdout",
     "output_type": "stream",
     "text": [
      "<class 'pandas.core.frame.DataFrame'>\n",
      "RangeIndex: 167 entries, 0 to 166\n",
      "Data columns (total 10 columns):\n",
      "country       167 non-null object\n",
      "child_mort    167 non-null float64\n",
      "exports       167 non-null float64\n",
      "health        167 non-null float64\n",
      "imports       167 non-null float64\n",
      "income        167 non-null int64\n",
      "inflation     167 non-null float64\n",
      "life_expec    167 non-null float64\n",
      "total_fer     167 non-null float64\n",
      "gdpp          167 non-null int64\n",
      "dtypes: float64(7), int64(2), object(1)\n",
      "memory usage: 13.1+ KB\n"
     ]
    }
   ],
   "source": [
    "dat.info()"
   ]
  },
  {
   "cell_type": "code",
   "execution_count": 4,
   "metadata": {},
   "outputs": [
    {
     "data": {
      "text/html": [
       "<div>\n",
       "<style scoped>\n",
       "    .dataframe tbody tr th:only-of-type {\n",
       "        vertical-align: middle;\n",
       "    }\n",
       "\n",
       "    .dataframe tbody tr th {\n",
       "        vertical-align: top;\n",
       "    }\n",
       "\n",
       "    .dataframe thead th {\n",
       "        text-align: right;\n",
       "    }\n",
       "</style>\n",
       "<table border=\"1\" class=\"dataframe\">\n",
       "  <thead>\n",
       "    <tr style=\"text-align: right;\">\n",
       "      <th></th>\n",
       "      <th>child_mort</th>\n",
       "      <th>exports</th>\n",
       "      <th>health</th>\n",
       "      <th>imports</th>\n",
       "      <th>income</th>\n",
       "      <th>inflation</th>\n",
       "      <th>life_expec</th>\n",
       "      <th>total_fer</th>\n",
       "      <th>gdpp</th>\n",
       "    </tr>\n",
       "  </thead>\n",
       "  <tbody>\n",
       "    <tr>\n",
       "      <th>count</th>\n",
       "      <td>167.000000</td>\n",
       "      <td>167.000000</td>\n",
       "      <td>167.000000</td>\n",
       "      <td>167.000000</td>\n",
       "      <td>167.000000</td>\n",
       "      <td>167.000000</td>\n",
       "      <td>167.000000</td>\n",
       "      <td>167.000000</td>\n",
       "      <td>167.000000</td>\n",
       "    </tr>\n",
       "    <tr>\n",
       "      <th>mean</th>\n",
       "      <td>38.270060</td>\n",
       "      <td>41.108976</td>\n",
       "      <td>6.815689</td>\n",
       "      <td>46.890215</td>\n",
       "      <td>17144.688623</td>\n",
       "      <td>7.781832</td>\n",
       "      <td>70.555689</td>\n",
       "      <td>2.947964</td>\n",
       "      <td>12964.155689</td>\n",
       "    </tr>\n",
       "    <tr>\n",
       "      <th>std</th>\n",
       "      <td>40.328931</td>\n",
       "      <td>27.412010</td>\n",
       "      <td>2.746837</td>\n",
       "      <td>24.209589</td>\n",
       "      <td>19278.067698</td>\n",
       "      <td>10.570704</td>\n",
       "      <td>8.893172</td>\n",
       "      <td>1.513848</td>\n",
       "      <td>18328.704809</td>\n",
       "    </tr>\n",
       "    <tr>\n",
       "      <th>min</th>\n",
       "      <td>2.600000</td>\n",
       "      <td>0.109000</td>\n",
       "      <td>1.810000</td>\n",
       "      <td>0.065900</td>\n",
       "      <td>609.000000</td>\n",
       "      <td>-4.210000</td>\n",
       "      <td>32.100000</td>\n",
       "      <td>1.150000</td>\n",
       "      <td>231.000000</td>\n",
       "    </tr>\n",
       "    <tr>\n",
       "      <th>25%</th>\n",
       "      <td>8.250000</td>\n",
       "      <td>23.800000</td>\n",
       "      <td>4.920000</td>\n",
       "      <td>30.200000</td>\n",
       "      <td>3355.000000</td>\n",
       "      <td>1.810000</td>\n",
       "      <td>65.300000</td>\n",
       "      <td>1.795000</td>\n",
       "      <td>1330.000000</td>\n",
       "    </tr>\n",
       "    <tr>\n",
       "      <th>50%</th>\n",
       "      <td>19.300000</td>\n",
       "      <td>35.000000</td>\n",
       "      <td>6.320000</td>\n",
       "      <td>43.300000</td>\n",
       "      <td>9960.000000</td>\n",
       "      <td>5.390000</td>\n",
       "      <td>73.100000</td>\n",
       "      <td>2.410000</td>\n",
       "      <td>4660.000000</td>\n",
       "    </tr>\n",
       "    <tr>\n",
       "      <th>75%</th>\n",
       "      <td>62.100000</td>\n",
       "      <td>51.350000</td>\n",
       "      <td>8.600000</td>\n",
       "      <td>58.750000</td>\n",
       "      <td>22800.000000</td>\n",
       "      <td>10.750000</td>\n",
       "      <td>76.800000</td>\n",
       "      <td>3.880000</td>\n",
       "      <td>14050.000000</td>\n",
       "    </tr>\n",
       "    <tr>\n",
       "      <th>max</th>\n",
       "      <td>208.000000</td>\n",
       "      <td>200.000000</td>\n",
       "      <td>17.900000</td>\n",
       "      <td>174.000000</td>\n",
       "      <td>125000.000000</td>\n",
       "      <td>104.000000</td>\n",
       "      <td>82.800000</td>\n",
       "      <td>7.490000</td>\n",
       "      <td>105000.000000</td>\n",
       "    </tr>\n",
       "  </tbody>\n",
       "</table>\n",
       "</div>"
      ],
      "text/plain": [
       "       child_mort     exports      health     imports         income  \\\n",
       "count  167.000000  167.000000  167.000000  167.000000     167.000000   \n",
       "mean    38.270060   41.108976    6.815689   46.890215   17144.688623   \n",
       "std     40.328931   27.412010    2.746837   24.209589   19278.067698   \n",
       "min      2.600000    0.109000    1.810000    0.065900     609.000000   \n",
       "25%      8.250000   23.800000    4.920000   30.200000    3355.000000   \n",
       "50%     19.300000   35.000000    6.320000   43.300000    9960.000000   \n",
       "75%     62.100000   51.350000    8.600000   58.750000   22800.000000   \n",
       "max    208.000000  200.000000   17.900000  174.000000  125000.000000   \n",
       "\n",
       "        inflation  life_expec   total_fer           gdpp  \n",
       "count  167.000000  167.000000  167.000000     167.000000  \n",
       "mean     7.781832   70.555689    2.947964   12964.155689  \n",
       "std     10.570704    8.893172    1.513848   18328.704809  \n",
       "min     -4.210000   32.100000    1.150000     231.000000  \n",
       "25%      1.810000   65.300000    1.795000    1330.000000  \n",
       "50%      5.390000   73.100000    2.410000    4660.000000  \n",
       "75%     10.750000   76.800000    3.880000   14050.000000  \n",
       "max    104.000000   82.800000    7.490000  105000.000000  "
      ]
     },
     "execution_count": 4,
     "metadata": {},
     "output_type": "execute_result"
    }
   ],
   "source": [
    "dat.describe()"
   ]
  },
  {
   "cell_type": "code",
   "execution_count": 5,
   "metadata": {},
   "outputs": [
    {
     "data": {
      "text/plain": [
       "(167, 10)"
      ]
     },
     "execution_count": 5,
     "metadata": {},
     "output_type": "execute_result"
    }
   ],
   "source": [
    "dat.shape"
   ]
  },
  {
   "cell_type": "code",
   "execution_count": 6,
   "metadata": {},
   "outputs": [
    {
     "data": {
      "text/plain": [
       "country       0.0\n",
       "child_mort    0.0\n",
       "exports       0.0\n",
       "health        0.0\n",
       "imports       0.0\n",
       "income        0.0\n",
       "inflation     0.0\n",
       "life_expec    0.0\n",
       "total_fer     0.0\n",
       "gdpp          0.0\n",
       "dtype: float64"
      ]
     },
     "execution_count": 6,
     "metadata": {},
     "output_type": "execute_result"
    }
   ],
   "source": [
    "# Checking the percentage \n",
    "round(100*(dat.isnull().sum()/len(dat.index)),2)"
   ]
  },
  {
   "cell_type": "code",
   "execution_count": 7,
   "metadata": {},
   "outputs": [
    {
     "data": {
      "text/plain": [
       "country       0\n",
       "child_mort    0\n",
       "exports       0\n",
       "health        0\n",
       "imports       0\n",
       "income        0\n",
       "inflation     0\n",
       "life_expec    0\n",
       "total_fer     0\n",
       "gdpp          0\n",
       "dtype: int64"
      ]
     },
     "execution_count": 7,
     "metadata": {},
     "output_type": "execute_result"
    }
   ],
   "source": [
    "dat.isna().sum()"
   ]
  },
  {
   "cell_type": "code",
   "execution_count": 8,
   "metadata": {},
   "outputs": [],
   "source": [
    "#Converting exports,imports and health spending percentages to absolute values.\n",
    "dat['exports'] = dat['exports']*dat['gdpp']/100\n",
    "dat['imports'] = dat['imports']*dat['gdpp']/100\n",
    "dat['health'] = dat['health']*dat['gdpp']/100"
   ]
  },
  {
   "cell_type": "code",
   "execution_count": 9,
   "metadata": {},
   "outputs": [
    {
     "data": {
      "text/html": [
       "<div>\n",
       "<style scoped>\n",
       "    .dataframe tbody tr th:only-of-type {\n",
       "        vertical-align: middle;\n",
       "    }\n",
       "\n",
       "    .dataframe tbody tr th {\n",
       "        vertical-align: top;\n",
       "    }\n",
       "\n",
       "    .dataframe thead th {\n",
       "        text-align: right;\n",
       "    }\n",
       "</style>\n",
       "<table border=\"1\" class=\"dataframe\">\n",
       "  <thead>\n",
       "    <tr style=\"text-align: right;\">\n",
       "      <th></th>\n",
       "      <th>country</th>\n",
       "      <th>child_mort</th>\n",
       "      <th>exports</th>\n",
       "      <th>health</th>\n",
       "      <th>imports</th>\n",
       "      <th>income</th>\n",
       "      <th>inflation</th>\n",
       "      <th>life_expec</th>\n",
       "      <th>total_fer</th>\n",
       "      <th>gdpp</th>\n",
       "    </tr>\n",
       "  </thead>\n",
       "  <tbody>\n",
       "    <tr>\n",
       "      <th>0</th>\n",
       "      <td>Afghanistan</td>\n",
       "      <td>90.2</td>\n",
       "      <td>55.30</td>\n",
       "      <td>41.9174</td>\n",
       "      <td>248.297</td>\n",
       "      <td>1610</td>\n",
       "      <td>9.44</td>\n",
       "      <td>56.2</td>\n",
       "      <td>5.82</td>\n",
       "      <td>553</td>\n",
       "    </tr>\n",
       "    <tr>\n",
       "      <th>1</th>\n",
       "      <td>Albania</td>\n",
       "      <td>16.6</td>\n",
       "      <td>1145.20</td>\n",
       "      <td>267.8950</td>\n",
       "      <td>1987.740</td>\n",
       "      <td>9930</td>\n",
       "      <td>4.49</td>\n",
       "      <td>76.3</td>\n",
       "      <td>1.65</td>\n",
       "      <td>4090</td>\n",
       "    </tr>\n",
       "    <tr>\n",
       "      <th>2</th>\n",
       "      <td>Algeria</td>\n",
       "      <td>27.3</td>\n",
       "      <td>1712.64</td>\n",
       "      <td>185.9820</td>\n",
       "      <td>1400.440</td>\n",
       "      <td>12900</td>\n",
       "      <td>16.10</td>\n",
       "      <td>76.5</td>\n",
       "      <td>2.89</td>\n",
       "      <td>4460</td>\n",
       "    </tr>\n",
       "    <tr>\n",
       "      <th>3</th>\n",
       "      <td>Angola</td>\n",
       "      <td>119.0</td>\n",
       "      <td>2199.19</td>\n",
       "      <td>100.6050</td>\n",
       "      <td>1514.370</td>\n",
       "      <td>5900</td>\n",
       "      <td>22.40</td>\n",
       "      <td>60.1</td>\n",
       "      <td>6.16</td>\n",
       "      <td>3530</td>\n",
       "    </tr>\n",
       "    <tr>\n",
       "      <th>4</th>\n",
       "      <td>Antigua and Barbuda</td>\n",
       "      <td>10.3</td>\n",
       "      <td>5551.00</td>\n",
       "      <td>735.6600</td>\n",
       "      <td>7185.800</td>\n",
       "      <td>19100</td>\n",
       "      <td>1.44</td>\n",
       "      <td>76.8</td>\n",
       "      <td>2.13</td>\n",
       "      <td>12200</td>\n",
       "    </tr>\n",
       "  </tbody>\n",
       "</table>\n",
       "</div>"
      ],
      "text/plain": [
       "               country  child_mort  exports    health   imports  income  \\\n",
       "0          Afghanistan        90.2    55.30   41.9174   248.297    1610   \n",
       "1              Albania        16.6  1145.20  267.8950  1987.740    9930   \n",
       "2              Algeria        27.3  1712.64  185.9820  1400.440   12900   \n",
       "3               Angola       119.0  2199.19  100.6050  1514.370    5900   \n",
       "4  Antigua and Barbuda        10.3  5551.00  735.6600  7185.800   19100   \n",
       "\n",
       "   inflation  life_expec  total_fer   gdpp  \n",
       "0       9.44        56.2       5.82    553  \n",
       "1       4.49        76.3       1.65   4090  \n",
       "2      16.10        76.5       2.89   4460  \n",
       "3      22.40        60.1       6.16   3530  \n",
       "4       1.44        76.8       2.13  12200  "
      ]
     },
     "execution_count": 9,
     "metadata": {},
     "output_type": "execute_result"
    }
   ],
   "source": [
    "dat.head()"
   ]
  },
  {
   "cell_type": "markdown",
   "metadata": {},
   "source": [
    "## EDA"
   ]
  },
  {
   "cell_type": "code",
   "execution_count": 10,
   "metadata": {},
   "outputs": [
    {
     "data": {
      "text/plain": [
       "<matplotlib.axes._subplots.AxesSubplot at 0x1db1fcb44e0>"
      ]
     },
     "execution_count": 10,
     "metadata": {},
     "output_type": "execute_result"
    },
    {
     "data": {
      "image/png": "[encoded data removed]",
      "text/plain": [
       "<Figure size 1440x720 with 2 Axes>"
      ]
     },
     "metadata": {
      "needs_background": "light"
     },
     "output_type": "display_data"
    }
   ],
   "source": [
    "plt.figure(figsize = (20,10))        \n",
    "sns.heatmap(dat.corr(),annot = True)"
   ]
  },
  {
   "cell_type": "code",
   "execution_count": 11,
   "metadata": {},
   "outputs": [
    {
     "data": {
      "image/png": "[encoded data removed]",
      "text/plain": [
       "<Figure size 864x360 with 1 Axes>"
      ]
     },
     "metadata": {
      "needs_background": "light"
     },
     "output_type": "display_data"
    }
   ],
   "source": [
    "plt.figure(figsize=(12,5))\n",
    "boxplot = dat.boxplot(column=['child_mort', 'exports', 'health', 'imports',\n",
    "       'inflation', 'life_expec', 'total_fer'])"
   ]
  },
  {
   "cell_type": "code",
   "execution_count": 12,
   "metadata": {},
   "outputs": [
    {
     "data": {
      "image/png": "[encoded data removed]",
      "text/plain": [
       "<Figure size 360x360 with 1 Axes>"
      ]
     },
     "metadata": {
      "needs_background": "light"
     },
     "output_type": "display_data"
    }
   ],
   "source": [
    "plt.figure(figsize=(5,5))\n",
    "boxplot = dat.boxplot(column=['income', 'gdpp'])"
   ]
  },
  {
   "cell_type": "markdown",
   "metadata": {},
   "source": [
    "### PCA on the data"
   ]
  },
  {
   "cell_type": "code",
   "execution_count": 13,
   "metadata": {},
   "outputs": [],
   "source": [
    "#Normalising continuous Features \n",
    "dat1=dat[['child_mort', 'exports', 'health', 'imports', 'income',\n",
    "       'inflation', 'life_expec', 'total_fer', 'gdpp']]"
   ]
  },
  {
   "cell_type": "code",
   "execution_count": 14,
   "metadata": {},
   "outputs": [],
   "source": [
    "daty=dat['country']"
   ]
  },
  {
   "cell_type": "code",
   "execution_count": 15,
   "metadata": {},
   "outputs": [
    {
     "data": {
      "text/html": [
       "<div>\n",
       "<style scoped>\n",
       "    .dataframe tbody tr th:only-of-type {\n",
       "        vertical-align: middle;\n",
       "    }\n",
       "\n",
       "    .dataframe tbody tr th {\n",
       "        vertical-align: top;\n",
       "    }\n",
       "\n",
       "    .dataframe thead th {\n",
       "        text-align: right;\n",
       "    }\n",
       "</style>\n",
       "<table border=\"1\" class=\"dataframe\">\n",
       "  <thead>\n",
       "    <tr style=\"text-align: right;\">\n",
       "      <th></th>\n",
       "      <th>child_mort</th>\n",
       "      <th>exports</th>\n",
       "      <th>health</th>\n",
       "      <th>imports</th>\n",
       "      <th>income</th>\n",
       "      <th>inflation</th>\n",
       "      <th>life_expec</th>\n",
       "      <th>total_fer</th>\n",
       "      <th>gdpp</th>\n",
       "    </tr>\n",
       "  </thead>\n",
       "  <tbody>\n",
       "    <tr>\n",
       "      <th>0</th>\n",
       "      <td>90.2</td>\n",
       "      <td>55.30</td>\n",
       "      <td>41.9174</td>\n",
       "      <td>248.297</td>\n",
       "      <td>1610</td>\n",
       "      <td>9.44</td>\n",
       "      <td>56.2</td>\n",
       "      <td>5.82</td>\n",
       "      <td>553</td>\n",
       "    </tr>\n",
       "    <tr>\n",
       "      <th>1</th>\n",
       "      <td>16.6</td>\n",
       "      <td>1145.20</td>\n",
       "      <td>267.8950</td>\n",
       "      <td>1987.740</td>\n",
       "      <td>9930</td>\n",
       "      <td>4.49</td>\n",
       "      <td>76.3</td>\n",
       "      <td>1.65</td>\n",
       "      <td>4090</td>\n",
       "    </tr>\n",
       "    <tr>\n",
       "      <th>2</th>\n",
       "      <td>27.3</td>\n",
       "      <td>1712.64</td>\n",
       "      <td>185.9820</td>\n",
       "      <td>1400.440</td>\n",
       "      <td>12900</td>\n",
       "      <td>16.10</td>\n",
       "      <td>76.5</td>\n",
       "      <td>2.89</td>\n",
       "      <td>4460</td>\n",
       "    </tr>\n",
       "    <tr>\n",
       "      <th>3</th>\n",
       "      <td>119.0</td>\n",
       "      <td>2199.19</td>\n",
       "      <td>100.6050</td>\n",
       "      <td>1514.370</td>\n",
       "      <td>5900</td>\n",
       "      <td>22.40</td>\n",
       "      <td>60.1</td>\n",
       "      <td>6.16</td>\n",
       "      <td>3530</td>\n",
       "    </tr>\n",
       "    <tr>\n",
       "      <th>4</th>\n",
       "      <td>10.3</td>\n",
       "      <td>5551.00</td>\n",
       "      <td>735.6600</td>\n",
       "      <td>7185.800</td>\n",
       "      <td>19100</td>\n",
       "      <td>1.44</td>\n",
       "      <td>76.8</td>\n",
       "      <td>2.13</td>\n",
       "      <td>12200</td>\n",
       "    </tr>\n",
       "  </tbody>\n",
       "</table>\n",
       "</div>"
      ],
      "text/plain": [
       "   child_mort  exports    health   imports  income  inflation  life_expec  \\\n",
       "0        90.2    55.30   41.9174   248.297    1610       9.44        56.2   \n",
       "1        16.6  1145.20  267.8950  1987.740    9930       4.49        76.3   \n",
       "2        27.3  1712.64  185.9820  1400.440   12900      16.10        76.5   \n",
       "3       119.0  2199.19  100.6050  1514.370    5900      22.40        60.1   \n",
       "4        10.3  5551.00  735.6600  7185.800   19100       1.44        76.8   \n",
       "\n",
       "   total_fer   gdpp  \n",
       "0       5.82    553  \n",
       "1       1.65   4090  \n",
       "2       2.89   4460  \n",
       "3       6.16   3530  \n",
       "4       2.13  12200  "
      ]
     },
     "execution_count": 15,
     "metadata": {},
     "output_type": "execute_result"
    }
   ],
   "source": [
    "dat1.head()"
   ]
  },
  {
   "cell_type": "code",
   "execution_count": 16,
   "metadata": {},
   "outputs": [
    {
     "data": {
      "text/plain": [
       "(167, 9)"
      ]
     },
     "execution_count": 16,
     "metadata": {},
     "output_type": "execute_result"
    }
   ],
   "source": [
    "dat1.shape"
   ]
  },
  {
   "cell_type": "code",
   "execution_count": 17,
   "metadata": {},
   "outputs": [],
   "source": [
    "## First let us see if we can explain the dataset using fewer variables\n",
    "from sklearn.preprocessing import StandardScaler\n",
    "standard_scaler = StandardScaler()\n",
    "dat2 = standard_scaler.fit_transform(dat1)"
   ]
  },
  {
   "cell_type": "code",
   "execution_count": 18,
   "metadata": {},
   "outputs": [
    {
     "data": {
      "text/plain": [
       "array([[ 1.29153238, -0.4110113 , -0.56503989, ..., -1.61909203,\n",
       "         1.90288227, -0.67917961],\n",
       "       [-0.5389489 , -0.35019096, -0.43921769, ...,  0.64786643,\n",
       "        -0.85997281, -0.48562324],\n",
       "       [-0.27283273, -0.31852577, -0.48482608, ...,  0.67042323,\n",
       "        -0.0384044 , -0.46537561],\n",
       "       ...,\n",
       "       [-0.37231541, -0.36146329, -0.53848844, ...,  0.28695762,\n",
       "        -0.66120626, -0.63775406],\n",
       "       [ 0.44841668, -0.39216643, -0.55059641, ..., -0.34463279,\n",
       "         1.14094382, -0.63775406],\n",
       "       [ 1.11495062, -0.38395214, -0.54049845, ..., -2.09278484,\n",
       "         1.6246091 , -0.62954556]])"
      ]
     },
     "execution_count": 18,
     "metadata": {},
     "output_type": "execute_result"
    }
   ],
   "source": [
    "dat2"
   ]
  },
  {
   "cell_type": "code",
   "execution_count": 19,
   "metadata": {},
   "outputs": [],
   "source": [
    "#Importing the PCA module\n",
    "from sklearn.decomposition import PCA\n",
    "pca = PCA(svd_solver='randomized', random_state=42)"
   ]
  },
  {
   "cell_type": "code",
   "execution_count": 20,
   "metadata": {},
   "outputs": [
    {
     "data": {
      "text/plain": [
       "PCA(copy=True, iterated_power='auto', n_components=None, random_state=42,\n",
       "  svd_solver='randomized', tol=0.0, whiten=False)"
      ]
     },
     "execution_count": 20,
     "metadata": {},
     "output_type": "execute_result"
    }
   ],
   "source": [
    "#Performing the PCA\n",
    "pca.fit(dat2)"
   ]
  },
  {
   "cell_type": "code",
   "execution_count": 21,
   "metadata": {},
   "outputs": [
    {
     "data": {
      "text/plain": [
       "array([[-0.31639186,  0.34288671,  0.358535  ,  0.34486492,  0.38004113,\n",
       "        -0.14308531,  0.34385651, -0.30284224,  0.39998795],\n",
       "       [ 0.47626735,  0.39731091,  0.1550529 ,  0.37078075,  0.12838448,\n",
       "         0.22126089, -0.36981973,  0.4597152 ,  0.2006241 ],\n",
       "       [-0.15001225, -0.03057367, -0.07570322, -0.07217386,  0.14576421,\n",
       "         0.94841868,  0.19675173, -0.07783431,  0.01033941],\n",
       "       [-0.14805195,  0.44942527, -0.59971228,  0.46179779, -0.15480592,\n",
       "        -0.00762798, -0.01839465, -0.21392805, -0.36477239],\n",
       "       [ 0.1019948 , -0.03853829, -0.49319984, -0.2527867 ,  0.79407469,\n",
       "        -0.13642345, -0.15404105, -0.02033568,  0.08750149],\n",
       "       [ 0.19658519, -0.03891112,  0.18069888, -0.01217988, -0.03814681,\n",
       "         0.10840284, -0.58600986, -0.75390075,  0.04538167],\n",
       "       [ 0.76126725, -0.01366973, -0.06461567,  0.02718244, -0.02311312,\n",
       "        -0.02207663,  0.58120846, -0.27314534, -0.04402264],\n",
       "       [ 0.00644411, -0.05526371,  0.43007213,  0.1311355 ,  0.3938113 ,\n",
       "        -0.00607016,  0.002966  ,  0.03429334, -0.79902242],\n",
       "       [-0.00495137, -0.71792388, -0.13034593,  0.66568664,  0.07901102,\n",
       "         0.01128137, -0.03159406,  0.02368185,  0.12846398]])"
      ]
     },
     "execution_count": 21,
     "metadata": {},
     "output_type": "execute_result"
    }
   ],
   "source": [
    "#List of PCA components.\n",
    "pca.components_"
   ]
  },
  {
   "cell_type": "code",
   "execution_count": 22,
   "metadata": {},
   "outputs": [
    {
     "data": {
      "text/plain": [
       "array([5.89372984e-01, 1.84451685e-01, 9.91147170e-02, 6.07227801e-02,\n",
       "       3.02917253e-02, 2.45982702e-02, 9.39743701e-03, 1.55641971e-03,\n",
       "       4.93981394e-04])"
      ]
     },
     "execution_count": 22,
     "metadata": {},
     "output_type": "execute_result"
    }
   ],
   "source": [
    "#Let's check the variance ratios\n",
    "pca.explained_variance_ratio_"
   ]
  },
  {
   "cell_type": "code",
   "execution_count": 23,
   "metadata": {},
   "outputs": [
    {
     "data": {
      "image/png": "[encoded data removed]",
      "text/plain": [
       "<Figure size 864x576 with 1 Axes>"
      ]
     },
     "metadata": {
      "needs_background": "light"
     },
     "output_type": "display_data"
    }
   ],
   "source": [
    "#Plotting the scree plot\n",
    "%matplotlib inline\n",
    "fig = plt.figure(figsize = (12,8))\n",
    "plt.plot(np.cumsum(pca.explained_variance_ratio_))\n",
    "plt.xlabel('number of components')\n",
    "plt.ylabel('cumulative explained variance')\n",
    "plt.show()"
   ]
  },
  {
   "cell_type": "markdown",
   "metadata": {},
   "source": [
    "Around 90% of the information is being explained by 3 components"
   ]
  },
  {
   "cell_type": "code",
   "execution_count": 24,
   "metadata": {},
   "outputs": [
    {
     "data": {
      "text/html": [
       "<div>\n",
       "<style scoped>\n",
       "    .dataframe tbody tr th:only-of-type {\n",
       "        vertical-align: middle;\n",
       "    }\n",
       "\n",
       "    .dataframe tbody tr th {\n",
       "        vertical-align: top;\n",
       "    }\n",
       "\n",
       "    .dataframe thead th {\n",
       "        text-align: right;\n",
       "    }\n",
       "</style>\n",
       "<table border=\"1\" class=\"dataframe\">\n",
       "  <thead>\n",
       "    <tr style=\"text-align: right;\">\n",
       "      <th></th>\n",
       "      <th>Feature</th>\n",
       "      <th>PC1</th>\n",
       "      <th>PC2</th>\n",
       "      <th>PC3</th>\n",
       "    </tr>\n",
       "  </thead>\n",
       "  <tbody>\n",
       "    <tr>\n",
       "      <th>0</th>\n",
       "      <td>child_mort</td>\n",
       "      <td>-0.316392</td>\n",
       "      <td>0.476267</td>\n",
       "      <td>-0.150012</td>\n",
       "    </tr>\n",
       "    <tr>\n",
       "      <th>1</th>\n",
       "      <td>exports</td>\n",
       "      <td>0.342887</td>\n",
       "      <td>0.397311</td>\n",
       "      <td>-0.030574</td>\n",
       "    </tr>\n",
       "    <tr>\n",
       "      <th>2</th>\n",
       "      <td>health</td>\n",
       "      <td>0.358535</td>\n",
       "      <td>0.155053</td>\n",
       "      <td>-0.075703</td>\n",
       "    </tr>\n",
       "    <tr>\n",
       "      <th>3</th>\n",
       "      <td>imports</td>\n",
       "      <td>0.344865</td>\n",
       "      <td>0.370781</td>\n",
       "      <td>-0.072174</td>\n",
       "    </tr>\n",
       "    <tr>\n",
       "      <th>4</th>\n",
       "      <td>income</td>\n",
       "      <td>0.380041</td>\n",
       "      <td>0.128384</td>\n",
       "      <td>0.145764</td>\n",
       "    </tr>\n",
       "    <tr>\n",
       "      <th>5</th>\n",
       "      <td>inflation</td>\n",
       "      <td>-0.143085</td>\n",
       "      <td>0.221261</td>\n",
       "      <td>0.948419</td>\n",
       "    </tr>\n",
       "    <tr>\n",
       "      <th>6</th>\n",
       "      <td>life_expec</td>\n",
       "      <td>0.343857</td>\n",
       "      <td>-0.369820</td>\n",
       "      <td>0.196752</td>\n",
       "    </tr>\n",
       "    <tr>\n",
       "      <th>7</th>\n",
       "      <td>total_fer</td>\n",
       "      <td>-0.302842</td>\n",
       "      <td>0.459715</td>\n",
       "      <td>-0.077834</td>\n",
       "    </tr>\n",
       "    <tr>\n",
       "      <th>8</th>\n",
       "      <td>gdpp</td>\n",
       "      <td>0.399988</td>\n",
       "      <td>0.200624</td>\n",
       "      <td>0.010339</td>\n",
       "    </tr>\n",
       "  </tbody>\n",
       "</table>\n",
       "</div>"
      ],
      "text/plain": [
       "      Feature       PC1       PC2       PC3\n",
       "0  child_mort -0.316392  0.476267 -0.150012\n",
       "1     exports  0.342887  0.397311 -0.030574\n",
       "2      health  0.358535  0.155053 -0.075703\n",
       "3     imports  0.344865  0.370781 -0.072174\n",
       "4      income  0.380041  0.128384  0.145764\n",
       "5   inflation -0.143085  0.221261  0.948419\n",
       "6  life_expec  0.343857 -0.369820  0.196752\n",
       "7   total_fer -0.302842  0.459715 -0.077834\n",
       "8        gdpp  0.399988  0.200624  0.010339"
      ]
     },
     "execution_count": 24,
     "metadata": {},
     "output_type": "execute_result"
    }
   ],
   "source": [
    "#Understanding how the original variables are loaded on the principal components. It can be verified from above as well.\n",
    "colnames = list(dat1.columns)\n",
    "pcs_df = pd.DataFrame({ 'Feature':colnames,'PC1':pca.components_[0],'PC2':pca.components_[1],'PC3':pca.components_[2]})\n",
    "pcs_df"
   ]
  },
  {
   "cell_type": "code",
   "execution_count": 25,
   "metadata": {},
   "outputs": [
    {
     "data": {
      "image/png": "[encoded data removed]",
      "text/plain": [
       "<Figure size 360x360 with 1 Axes>"
      ]
     },
     "metadata": {
      "needs_background": "light"
     },
     "output_type": "display_data"
    }
   ],
   "source": [
    "# Let's plot them to visualise how these features are loaded\n",
    "%matplotlib inline\n",
    "fig = plt.figure(figsize = (5,5))\n",
    "plt.scatter(pcs_df.PC1, pcs_df.PC2)\n",
    "plt.xlabel('Principal Component 1')\n",
    "plt.ylabel('Principal Component 2')\n",
    "for i, txt in enumerate(pcs_df.Feature):\n",
    "    plt.annotate(txt, (pcs_df.PC1[i],pcs_df.PC2[i]))\n",
    "plt.tight_layout()\n",
    "plt.show()"
   ]
  },
  {
   "cell_type": "code",
   "execution_count": 26,
   "metadata": {},
   "outputs": [],
   "source": [
    "#Finally let's go ahead and do dimenstionality reduction using the two Principal Components\n",
    "from sklearn.decomposition import IncrementalPCA\n",
    "pca_final = IncrementalPCA(n_components=3)"
   ]
  },
  {
   "cell_type": "code",
   "execution_count": 27,
   "metadata": {},
   "outputs": [
    {
     "data": {
      "text/plain": [
       "(167, 3)"
      ]
     },
     "execution_count": 27,
     "metadata": {},
     "output_type": "execute_result"
    }
   ],
   "source": [
    "df_pca = pca_final.fit_transform(dat2)\n",
    "df_pca.shape"
   ]
  },
  {
   "cell_type": "code",
   "execution_count": 28,
   "metadata": {},
   "outputs": [
    {
     "data": {
      "text/plain": [
       "array([[-2.63744157e+00,  1.46903797e+00, -5.41359106e-01],\n",
       "       [-2.22769569e-02, -1.43189586e+00, -2.07009539e-02],\n",
       "       [-4.57626261e-01, -6.73300938e-01,  9.61867281e-01],\n",
       "       [-2.72452030e+00,  2.17458267e+00,  6.06686548e-01],\n",
       "       [ 6.49848516e-01, -1.02437392e+00, -2.50102847e-01],\n",
       "       [ 3.71968554e-02, -6.80889086e-01,  1.46696276e+00],\n",
       "       [-3.32691520e-01, -1.27451685e+00,  1.76636110e-01],\n",
       "       [ 3.18036154e+00, -2.50784878e-01, -1.16877257e-01],\n",
       "       [ 3.81568156e+00,  2.56083499e-01, -2.70495294e-01],\n",
       "       [-4.67515152e-01, -4.93492360e-01,  6.03288028e-01],\n",
       "       [ 1.49875246e+00, -4.28907400e-01, -5.50237572e-01],\n",
       "       [ 1.47097104e+00, -3.26795693e-01,  4.28411771e-01],\n",
       "       [-1.01419903e+00, -7.11807758e-01, -1.16988551e-01],\n",
       "       [ 8.45238116e-01, -1.00860625e+00, -4.17261615e-01],\n",
       "       [-1.34473920e-02, -9.82186148e-01,  8.80913018e-01],\n",
       "       [ 3.96087770e+00,  8.38740841e-01, -2.94077196e-01],\n",
       "       [-4.02707071e-01, -9.21816189e-01, -5.04892363e-01],\n",
       "       [-2.36598657e+00,  1.16845951e+00, -1.23525716e+00],\n",
       "       [-7.14998191e-01, -7.68107039e-01, -1.34109127e-01],\n",
       "       [-1.01778054e+00, -4.26144387e-01,  5.16465672e-02],\n",
       "       [ 2.52812687e-01, -1.69696897e+00, -2.50836495e-01],\n",
       "       [-1.13095912e+00,  3.96783001e-01, -2.39304177e-01],\n",
       "       [ 1.66280202e-01, -1.01868043e+00,  2.76558220e-01],\n",
       "       [ 2.69525065e+00,  3.67356498e-01,  1.64616171e+00],\n",
       "       [ 2.80569006e-01, -1.32128913e+00, -3.24418990e-01],\n",
       "       [-2.75387449e+00,  1.66232785e+00, -8.38530674e-01],\n",
       "       [-2.76406823e+00,  1.62703825e+00, -2.89501749e-01],\n",
       "       [-1.17929406e+00, -4.93713667e-01, -5.79293325e-01],\n",
       "       [-2.44142939e+00,  1.28368238e+00, -1.21856998e+00],\n",
       "       [ 3.39411994e+00, -7.58855209e-02, -5.31210031e-02],\n",
       "       [-5.23229456e-01, -9.78047863e-01, -5.73628045e-01],\n",
       "       [-3.24153046e+00,  2.17133945e+00, -1.60432462e+00],\n",
       "       [-3.18889212e+00,  2.35227803e+00, -1.06346393e+00],\n",
       "       [ 6.92394286e-01, -1.11434707e+00,  4.97610946e-01],\n",
       "       [-1.28851026e-01, -1.36213540e+00,  1.69283810e-01],\n",
       "       [-1.38822916e-02, -1.29235162e+00, -9.14677579e-02],\n",
       "       [-1.94991207e+00,  6.04586951e-01, -7.68860274e-01],\n",
       "       [-3.11679859e+00,  2.17150462e+00,  3.65532243e-01],\n",
       "       [-2.04776384e+00,  1.08864497e+00,  7.15229292e-01],\n",
       "       [ 4.31523541e-01, -1.37262753e+00,  2.62061719e-01],\n",
       "       [-2.57476033e+00,  1.49393828e+00, -9.50191143e-01],\n",
       "       [ 8.46278142e-01, -1.26420905e+00, -2.67258861e-01],\n",
       "       [ 2.31379384e+00, -5.50247851e-01, -6.22654443e-02],\n",
       "       [ 1.67463303e+00, -8.68266683e-01, -4.36511824e-01],\n",
       "       [ 4.37600084e+00,  9.19899166e-01, -1.86529955e-01],\n",
       "       [-3.67788028e-01, -8.12993768e-01, -7.21568825e-02],\n",
       "       [-3.02658561e-01, -9.72557952e-01,  1.72477125e-01],\n",
       "       [-8.36646810e-01, -5.29582755e-01,  2.51857913e-01],\n",
       "       [-3.36572123e-01, -1.21747835e+00, -2.87803708e-01],\n",
       "       [-1.05577406e+00,  2.69689134e+00,  1.07364824e+00],\n",
       "       [-1.94848965e+00,  4.93517847e-01, -4.07068580e-02],\n",
       "       [ 1.06557915e+00, -9.24334486e-01, -2.02813828e-01],\n",
       "       [-7.62615708e-01, -5.81923630e-01, -3.87273966e-01],\n",
       "       [ 3.20148606e+00, -4.38651220e-03, -2.77573697e-01],\n",
       "       [ 2.89215450e+00, -3.07170794e-01, -2.12461353e-01],\n",
       "       [-1.28280191e+00,  8.50735122e-01,  5.22787837e-01],\n",
       "       [-2.10533591e+00,  8.25136769e-01, -7.45876298e-01],\n",
       "       [-3.60504965e-01, -1.16420904e+00,  2.22137822e-01],\n",
       "       [ 3.29930852e+00, -1.63475829e-01, -2.47480550e-01],\n",
       "       [-2.00241212e+00,  7.51898968e-01,  3.65803951e-01],\n",
       "       [ 1.93046755e+00, -1.02179786e+00, -1.97169128e-01],\n",
       "       [-8.55184899e-02, -1.03950060e+00, -5.13496872e-01],\n",
       "       [-8.57586524e-01, -5.35167576e-01, -2.38976872e-01],\n",
       "       [-2.71436749e+00,  1.61353038e+00,  3.81112147e-02],\n",
       "       [-2.61088220e+00,  1.40183125e+00, -1.19274761e+00],\n",
       "       [-9.32328908e-01, -4.32759786e-01, -3.12365847e-01],\n",
       "       [-3.94495955e+00,  3.02528124e+00, -1.79111113e+00],\n",
       "       [ 1.05201992e+00, -9.93622931e-01, -1.78986761e-01],\n",
       "       [ 3.10042218e+00,  1.66620534e-01,  1.95525454e-01],\n",
       "       [-1.26527648e+00, -2.73471726e-01, -7.93540516e-02],\n",
       "       [-8.42067437e-01, -5.64431036e-01,  7.04183140e-01],\n",
       "       [-7.83604357e-02, -9.71699050e-01,  1.01036952e+00],\n",
       "       [-1.19755535e+00,  3.66926553e-01,  6.77786697e-01],\n",
       "       [ 4.66106546e+00,  1.40673214e+00, -7.72706005e-01],\n",
       "       [ 1.78332399e+00, -3.98450266e-01, -1.29869769e-01],\n",
       "       [ 2.55301292e+00, -7.77100571e-01, -1.70574633e-01],\n",
       "       [-2.92488125e-01, -1.07098189e+00,  3.72733290e-01],\n",
       "       [ 2.85862023e+00, -8.79853187e-01, -3.49318688e-01],\n",
       "       [-5.21408157e-01, -6.37590059e-01,  2.09087479e-01],\n",
       "       [-3.56704385e-01, -2.21989984e-01,  1.16239312e+00],\n",
       "       [-1.73754907e+00,  2.80717075e-01, -8.73885085e-01],\n",
       "       [-1.66771576e+00,  2.32726872e-01, -9.70327191e-01],\n",
       "       [ 2.78022258e+00,  4.09049216e-01,  1.10198987e+00],\n",
       "       [-1.09060307e+00, -5.44824469e-01,  1.36468875e-01],\n",
       "       [-1.63798735e+00,  2.38587936e-01, -2.18411812e-01],\n",
       "       [ 6.66371378e-01, -1.21036568e+00, -4.98155603e-01],\n",
       "       [ 6.47380735e-01, -1.49788191e+00, -2.74720020e-01],\n",
       "       [-2.43643715e+00,  1.15330757e+00, -1.16893445e+00],\n",
       "       [-2.25920211e+00,  9.31943490e-01, -7.63506099e-01],\n",
       "       [ 4.92263179e-01, -5.17710053e-01,  9.54316810e-01],\n",
       "       [ 7.77907024e-01, -1.00439663e+00, -2.03252447e-01],\n",
       "       [ 1.26443457e+01,  8.26526585e+00, -7.44422522e-01],\n",
       "       [ 8.40286423e-02, -1.46663341e+00, -2.54533838e-01],\n",
       "       [-1.99719466e+00,  5.53843756e-01, -3.38949086e-01],\n",
       "       [-2.71099852e+00,  1.49439612e+00, -3.58971361e-01],\n",
       "       [ 4.27177521e-01, -8.46043967e-01,  2.58877823e-01],\n",
       "       [ 2.31409518e-01, -1.17916241e+00, -1.65173022e-01],\n",
       "       [-2.94714444e+00,  2.00852988e+00, -1.12382153e+00],\n",
       "       [ 2.63607678e+00,  8.71657993e-02, -8.06881075e-02],\n",
       "       [-2.11479497e+00,  1.04608272e+00,  5.93506195e-01],\n",
       "       [ 3.11350366e-01, -1.18393416e+00, -3.53340370e-01],\n",
       "       [-1.11560793e+00, -2.13157479e-01, -5.62427694e-01],\n",
       "       [-5.11219367e-01, -1.23132389e+00,  3.84380598e-01],\n",
       "       [-1.26831401e+00,  8.55486527e-02,  2.75680072e+00],\n",
       "       [ 3.55971705e-01, -1.40622589e+00, -2.37602576e-01],\n",
       "       [-5.46772119e-01, -9.78645302e-01, -5.21939515e-01],\n",
       "       [-2.73267720e+00,  1.54232048e+00, -7.76059664e-01],\n",
       "       [-1.26469403e+00, -3.58711858e-01, -2.54282073e-01],\n",
       "       [-1.33597288e+00,  4.12453164e-01, -7.61497045e-01],\n",
       "       [-1.25257966e+00, -4.03649867e-01,  5.38299132e-01],\n",
       "       [ 4.49434594e+00,  9.91137264e-01, -3.83121947e-01],\n",
       "       [ 2.20708488e+00, -4.60402508e-01,  4.02226753e-02],\n",
       "       [-3.06349475e+00,  2.10345193e+00, -1.29601270e+00],\n",
       "       [-3.93050805e+00,  3.84156564e+00,  7.86649100e+00],\n",
       "       [ 5.84225530e+00,  1.65077719e+00,  1.85810149e-01],\n",
       "       [ 1.05163942e+00, -2.80233805e-02,  1.19785090e+00],\n",
       "       [-1.86271903e+00,  5.66659012e-01, -1.04890743e-01],\n",
       "       [ 3.03027657e-01, -8.77558152e-01, -2.08919158e-01],\n",
       "       [-4.87602063e-01, -9.16197424e-01, -2.02154532e-02],\n",
       "       [-1.79908876e-01, -1.16141959e+00,  7.96190705e-02],\n",
       "       [-9.28957530e-01, -5.99764354e-01, -3.54198733e-01],\n",
       "       [ 8.54815190e-01, -1.28764989e+00, -1.69052042e-01],\n",
       "       [ 1.75954412e+00, -1.08887390e+00, -2.14430100e-01],\n",
       "       [ 5.12429969e+00,  1.44099979e+00,  1.17107078e+00],\n",
       "       [ 2.83523953e-01, -1.24324096e+00, -8.78695362e-02],\n",
       "       [ 1.41656293e-01, -7.97629457e-01,  8.19296842e-01],\n",
       "       [-1.74841079e+00,  2.58810274e-01, -8.07940722e-01],\n",
       "       [-8.48158634e-01, -4.91577438e-01, -5.34690531e-01],\n",
       "       [ 9.11234513e-01,  3.11483433e-02,  1.30178694e+00],\n",
       "       [-1.86271953e+00,  4.93654358e-01, -9.17758293e-01],\n",
       "       [ 1.86490508e-01, -1.43095062e+00,  1.18010625e-01],\n",
       "       [ 6.68231072e-01, -7.68133419e-01, -8.54486502e-01],\n",
       "       [-3.22704810e+00,  2.31622701e+00, -1.19591404e-01],\n",
       "       [ 6.58985925e+00,  2.94076381e+00, -3.37303856e-01],\n",
       "       [ 1.41044469e+00, -7.89309546e-01, -3.49240050e-01],\n",
       "       [ 2.04164022e+00, -7.26174703e-01, -3.97057843e-01],\n",
       "       [-1.51754777e+00,  1.42710226e-02, -3.57636331e-01],\n",
       "       [-1.17984717e+00,  3.49293570e-01, -5.33353823e-01],\n",
       "       [ 1.75633945e+00, -1.02229881e+00,  8.09814622e-02],\n",
       "       [ 2.24348215e+00, -1.00694393e+00, -1.77758596e-01],\n",
       "       [-5.44176127e-01, -9.44779352e-01,  1.57161816e+00],\n",
       "       [-2.25341201e-01, -9.85686904e-01, -1.73911064e-01],\n",
       "       [-2.01686997e+00,  8.51336401e-01,  6.97648281e-01],\n",
       "       [-1.97679055e-01, -5.67097461e-01,  3.35800779e-02],\n",
       "       [ 3.80597136e+00,  3.79849383e-01, -2.38743262e-01],\n",
       "       [ 6.26297409e+00,  1.85000963e+00, -4.76166618e-01],\n",
       "       [-1.37579894e+00, -1.63372836e-01,  2.77517846e-01],\n",
       "       [-2.27834344e+00,  1.00591556e+00, -3.97830215e-01],\n",
       "       [ 1.75003752e-01, -1.39783589e+00, -1.37076883e-02],\n",
       "       [-2.00654209e+00,  1.09209234e+00,  1.39169881e+00],\n",
       "       [-2.24527391e+00,  9.01384656e-01, -1.18666619e+00],\n",
       "       [-8.57094509e-01, -5.43222766e-01, -3.75027066e-01],\n",
       "       [-6.11326382e-02, -1.28052084e+00, -8.88316742e-02],\n",
       "       [ 3.28746959e-01, -1.06532901e+00,  2.66875043e-01],\n",
       "       [-8.95571886e-01, -1.91899504e-01, -6.22690182e-01],\n",
       "       [-2.62250045e+00,  1.46053612e+00, -4.03761119e-01],\n",
       "       [-3.71584511e-01, -1.15734667e+00,  6.51387502e-01],\n",
       "       [ 2.68935982e+00,  5.41214474e-01,  9.57821458e-01],\n",
       "       [ 2.60507653e+00, -3.74391523e-01, -1.46298882e-01],\n",
       "       [ 3.77973688e+00,  1.19298043e-01, -3.09117650e-01],\n",
       "       [ 4.56137111e-01, -1.09822863e+00,  4.89676824e-02],\n",
       "       [-1.03056343e+00, -5.62941401e-01,  7.43224331e-01],\n",
       "       [-1.17501897e+00, -2.81317390e-01, -6.70432664e-01],\n",
       "       [-3.11498487e-01, -6.68715525e-03,  3.65671155e+00],\n",
       "       [-5.92402161e-01, -1.07822432e+00,  5.10558163e-01],\n",
       "       [-1.80154125e+00,  5.90835071e-01,  1.17776563e+00],\n",
       "       [-2.64661126e+00,  1.56806633e+00, -1.74032291e-01]])"
      ]
     },
     "execution_count": 28,
     "metadata": {},
     "output_type": "execute_result"
    }
   ],
   "source": [
    "df_pca"
   ]
  },
  {
   "cell_type": "code",
   "execution_count": 29,
   "metadata": {},
   "outputs": [],
   "source": [
    "#Creating a transpose so that the each column is properly arranged\n",
    "pc = np.transpose(df_pca)"
   ]
  },
  {
   "cell_type": "code",
   "execution_count": 30,
   "metadata": {},
   "outputs": [],
   "source": [
    "#Let's create the newer matrix according to the given principal components\n",
    "cnames = list(daty)"
   ]
  },
  {
   "cell_type": "code",
   "execution_count": 31,
   "metadata": {},
   "outputs": [
    {
     "data": {
      "text/html": [
       "<div>\n",
       "<style scoped>\n",
       "    .dataframe tbody tr th:only-of-type {\n",
       "        vertical-align: middle;\n",
       "    }\n",
       "\n",
       "    .dataframe tbody tr th {\n",
       "        vertical-align: top;\n",
       "    }\n",
       "\n",
       "    .dataframe thead th {\n",
       "        text-align: right;\n",
       "    }\n",
       "</style>\n",
       "<table border=\"1\" class=\"dataframe\">\n",
       "  <thead>\n",
       "    <tr style=\"text-align: right;\">\n",
       "      <th></th>\n",
       "      <th>country</th>\n",
       "      <th>PC1</th>\n",
       "      <th>PC2</th>\n",
       "      <th>PC3</th>\n",
       "    </tr>\n",
       "  </thead>\n",
       "  <tbody>\n",
       "    <tr>\n",
       "      <th>0</th>\n",
       "      <td>Afghanistan</td>\n",
       "      <td>-2.637442</td>\n",
       "      <td>1.469038</td>\n",
       "      <td>-0.541359</td>\n",
       "    </tr>\n",
       "    <tr>\n",
       "      <th>1</th>\n",
       "      <td>Albania</td>\n",
       "      <td>-0.022277</td>\n",
       "      <td>-1.431896</td>\n",
       "      <td>-0.020701</td>\n",
       "    </tr>\n",
       "    <tr>\n",
       "      <th>2</th>\n",
       "      <td>Algeria</td>\n",
       "      <td>-0.457626</td>\n",
       "      <td>-0.673301</td>\n",
       "      <td>0.961867</td>\n",
       "    </tr>\n",
       "    <tr>\n",
       "      <th>3</th>\n",
       "      <td>Angola</td>\n",
       "      <td>-2.724520</td>\n",
       "      <td>2.174583</td>\n",
       "      <td>0.606687</td>\n",
       "    </tr>\n",
       "    <tr>\n",
       "      <th>4</th>\n",
       "      <td>Antigua and Barbuda</td>\n",
       "      <td>0.649849</td>\n",
       "      <td>-1.024374</td>\n",
       "      <td>-0.250103</td>\n",
       "    </tr>\n",
       "  </tbody>\n",
       "</table>\n",
       "</div>"
      ],
      "text/plain": [
       "               country       PC1       PC2       PC3\n",
       "0          Afghanistan -2.637442  1.469038 -0.541359\n",
       "1              Albania -0.022277 -1.431896 -0.020701\n",
       "2              Algeria -0.457626 -0.673301  0.961867\n",
       "3               Angola -2.724520  2.174583  0.606687\n",
       "4  Antigua and Barbuda  0.649849 -1.024374 -0.250103"
      ]
     },
     "execution_count": 31,
     "metadata": {},
     "output_type": "execute_result"
    }
   ],
   "source": [
    "pcs_df2 = pd.DataFrame({'country':cnames,'PC1':pc[0],'PC2':pc[1],'PC3':pc[2]})\n",
    "pcs_df2.head()"
   ]
  },
  {
   "cell_type": "code",
   "execution_count": 32,
   "metadata": {},
   "outputs": [
    {
     "data": {
      "text/plain": [
       "(167, 4)"
      ]
     },
     "execution_count": 32,
     "metadata": {},
     "output_type": "execute_result"
    }
   ],
   "source": [
    "pcs_df2.shape"
   ]
  },
  {
   "cell_type": "code",
   "execution_count": 33,
   "metadata": {},
   "outputs": [
    {
     "data": {
      "image/png": "[encoded data removed]",
      "text/plain": [
       "<Figure size 432x288 with 1 Axes>"
      ]
     },
     "metadata": {
      "needs_background": "light"
     },
     "output_type": "display_data"
    }
   ],
   "source": [
    "## Let's perform Outlier Analysis\n",
    "#Let's do the outlier analysis before proceeding to clustering\n",
    "#We can reassign the outliers to the clusters later\n",
    "plt.boxplot(pcs_df2.PC1)\n",
    "Q1 = pcs_df2.PC1.quantile(0.05)\n",
    "Q3 = pcs_df2.PC1.quantile(0.95)\n",
    "IQR = Q3 - Q1\n",
    "pcs_df2 = pcs_df2[(pcs_df2.PC1 >= Q1) & (pcs_df2.PC1 <= Q3)]"
   ]
  },
  {
   "cell_type": "code",
   "execution_count": 34,
   "metadata": {},
   "outputs": [
    {
     "data": {
      "image/png": "[encoded data removed]",
      "text/plain": [
       "<Figure size 432x288 with 1 Axes>"
      ]
     },
     "metadata": {
      "needs_background": "light"
     },
     "output_type": "display_data"
    }
   ],
   "source": [
    "plt.boxplot(pcs_df2.PC2)\n",
    "Q1 = pcs_df2.PC2.quantile(0.05)\n",
    "Q3 = pcs_df2.PC2.quantile(0.95)\n",
    "IQR = Q3 - Q1\n",
    "pcs_df2 = pcs_df2[(pcs_df2.PC2 >= Q1) & (pcs_df2.PC2 <= Q3)]"
   ]
  },
  {
   "cell_type": "code",
   "execution_count": 35,
   "metadata": {},
   "outputs": [
    {
     "data": {
      "image/png": "[encoded data removed]",
      "text/plain": [
       "<Figure size 432x288 with 1 Axes>"
      ]
     },
     "metadata": {
      "needs_background": "light"
     },
     "output_type": "display_data"
    }
   ],
   "source": [
    "plt.boxplot(pcs_df2.PC3)\n",
    "Q1 = pcs_df2.PC3.quantile(0.05)\n",
    "Q3 = pcs_df2.PC3.quantile(0.95)\n",
    "IQR = Q3 - Q1\n",
    "pcs_df2 = pcs_df2[(pcs_df2.PC3 >= Q1 ) & (pcs_df2.PC3 <= Q3)]"
   ]
  },
  {
   "cell_type": "code",
   "execution_count": 36,
   "metadata": {},
   "outputs": [
    {
     "data": {
      "text/plain": [
       "(119, 4)"
      ]
     },
     "execution_count": 36,
     "metadata": {},
     "output_type": "execute_result"
    }
   ],
   "source": [
    "pcs_df2.shape"
   ]
  },
  {
   "cell_type": "code",
   "execution_count": 37,
   "metadata": {},
   "outputs": [
    {
     "data": {
      "text/plain": [
       "<matplotlib.axes._subplots.AxesSubplot at 0x1db1e6c6710>"
      ]
     },
     "execution_count": 37,
     "metadata": {},
     "output_type": "execute_result"
    },
    {
     "data": {
      "image/png": "[encoded data removed]",
      "text/plain": [
       "<Figure size 432x288 with 1 Axes>"
      ]
     },
     "metadata": {
      "needs_background": "light"
     },
     "output_type": "display_data"
    }
   ],
   "source": [
    "sns.scatterplot(x='PC1',y='PC2',data=pcs_df2)"
   ]
  },
  {
   "cell_type": "code",
   "execution_count": 38,
   "metadata": {},
   "outputs": [
    {
     "data": {
      "text/plain": [
       "<matplotlib.axes._subplots.AxesSubplot at 0x1db201fb1d0>"
      ]
     },
     "execution_count": 38,
     "metadata": {},
     "output_type": "execute_result"
    },
    {
     "data": {
      "image/png": "[encoded data removed]",
      "text/plain": [
       "<Figure size 432x288 with 1 Axes>"
      ]
     },
     "metadata": {
      "needs_background": "light"
     },
     "output_type": "display_data"
    }
   ],
   "source": [
    "sns.scatterplot(x='PC1',y='PC3',data=pcs_df2)"
   ]
  },
  {
   "cell_type": "code",
   "execution_count": 39,
   "metadata": {},
   "outputs": [
    {
     "data": {
      "text/plain": [
       "<matplotlib.axes._subplots.AxesSubplot at 0x1db200c2c50>"
      ]
     },
     "execution_count": 39,
     "metadata": {},
     "output_type": "execute_result"
    },
    {
     "data": {
      "image/png": "[encoded data removed]",
      "text/plain": [
       "<Figure size 432x288 with 1 Axes>"
      ]
     },
     "metadata": {
      "needs_background": "light"
     },
     "output_type": "display_data"
    }
   ],
   "source": [
    "sns.scatterplot(x='PC2',y='PC3',data=pcs_df2)"
   ]
  },
  {
   "cell_type": "markdown",
   "metadata": {},
   "source": [
    "From the above plots we can see so clusters are good and some are bad .The good visulisation is seen in pc1,pc2"
   ]
  },
  {
   "cell_type": "markdown",
   "metadata": {},
   "source": [
    "## Clustering "
   ]
  },
  {
   "cell_type": "code",
   "execution_count": 40,
   "metadata": {},
   "outputs": [],
   "source": [
    "#Calculating the Hopkins statistic\n",
    "from sklearn.neighbors import NearestNeighbors\n",
    "from random import sample\n",
    "from numpy.random import uniform\n",
    "import numpy as np\n",
    "from math import isnan\n",
    " \n",
    "def hopkins(X):\n",
    "    d = X.shape[1]\n",
    "    #d = len(vars) # columns\n",
    "    n = len(X) # rows\n",
    "    m = int(0.1 * n) \n",
    "    nbrs = NearestNeighbors(n_neighbors=1).fit(X.values)\n",
    " \n",
    "    rand_X = sample(range(0, n, 1), m)\n",
    " \n",
    "    ujd = []\n",
    "    wjd = []\n",
    "    for j in range(0, m):\n",
    "        u_dist, _ = nbrs.kneighbors(uniform(np.amin(X,axis=0),np.amax(X,axis=0),d).reshape(1, -1), 2, return_distance=True)\n",
    "        ujd.append(u_dist[0][1])\n",
    "        w_dist, _ = nbrs.kneighbors(X.iloc[rand_X[j]].values.reshape(1, -1), 2, return_distance=True)\n",
    "        wjd.append(w_dist[0][1])\n",
    " \n",
    "    H = sum(ujd) / (sum(ujd) + sum(wjd))\n",
    "    if isnan(H):\n",
    "        print(ujd, wjd)\n",
    "        H = 0\n",
    " \n",
    "    return H"
   ]
  },
  {
   "cell_type": "code",
   "execution_count": 41,
   "metadata": {},
   "outputs": [],
   "source": [
    "pcs_df2_1=pcs_df2.drop(['country'],axis=1)"
   ]
  },
  {
   "cell_type": "code",
   "execution_count": 42,
   "metadata": {},
   "outputs": [
    {
     "data": {
      "text/plain": [
       "0.7544244545151512"
      ]
     },
     "execution_count": 42,
     "metadata": {},
     "output_type": "execute_result"
    }
   ],
   "source": [
    "#Let's check the Hopkins measure\n",
    "hopkins(pcs_df2_1)"
   ]
  },
  {
   "cell_type": "code",
   "execution_count": 43,
   "metadata": {},
   "outputs": [],
   "source": [
    "dat3_1 =pcs_df2_1"
   ]
  },
  {
   "cell_type": "markdown",
   "metadata": {},
   "source": [
    "### K- means Clustering"
   ]
  },
  {
   "cell_type": "code",
   "execution_count": 44,
   "metadata": {},
   "outputs": [],
   "source": [
    "#First we'll do the silhouette score analysis\n",
    "from sklearn.metrics import silhouette_score\n",
    "sse_ = []\n",
    "for k in range(2, 10):\n",
    "    kmeans = KMeans(n_clusters=k).fit(dat3_1)\n",
    "    sse_.append([k, silhouette_score(dat3_1, kmeans.labels_)])"
   ]
  },
  {
   "cell_type": "code",
   "execution_count": 45,
   "metadata": {},
   "outputs": [
    {
     "data": {
      "image/png": "[encoded data removed]",
      "text/plain": [
       "<Figure size 432x288 with 1 Axes>"
      ]
     },
     "metadata": {
      "needs_background": "light"
     },
     "output_type": "display_data"
    }
   ],
   "source": [
    "plt.plot(pd.DataFrame(sse_)[0], pd.DataFrame(sse_)[1]);"
   ]
  },
  {
   "cell_type": "code",
   "execution_count": 46,
   "metadata": {},
   "outputs": [
    {
     "data": {
      "text/plain": [
       "[<matplotlib.lines.Line2D at 0x1db20224cc0>]"
      ]
     },
     "execution_count": 46,
     "metadata": {},
     "output_type": "execute_result"
    },
    {
     "data": {
      "image/png": "[encoded data removed]",
      "text/plain": [
       "<Figure size 432x288 with 1 Axes>"
      ]
     },
     "metadata": {
      "needs_background": "light"
     },
     "output_type": "display_data"
    }
   ],
   "source": [
    "#Elbow curve \n",
    "ssd = []\n",
    "for num_clusters in list(range(1,10)):\n",
    "    model_clus = KMeans(n_clusters = num_clusters, max_iter=50)\n",
    "    model_clus.fit(dat3_1)\n",
    "    ssd.append(model_clus.inertia_)\n",
    "\n",
    "plt.plot(ssd) "
   ]
  },
  {
   "cell_type": "code",
   "execution_count": 47,
   "metadata": {},
   "outputs": [
    {
     "data": {
      "text/plain": [
       "KMeans(algorithm='auto', copy_x=True, init='k-means++', max_iter=50,\n",
       "    n_clusters=3, n_init=10, n_jobs=1, precompute_distances='auto',\n",
       "    random_state=50, tol=0.0001, verbose=0)"
      ]
     },
     "execution_count": 47,
     "metadata": {},
     "output_type": "execute_result"
    }
   ],
   "source": [
    "#Let's perform K means using K=3 we can choose any value of k like 2,3,4,5; but choose less than 5\n",
    "model_clus2 = KMeans(n_clusters =3 , max_iter=50,random_state = 50)\n",
    "model_clus2.fit(dat3_1)"
   ]
  },
  {
   "cell_type": "code",
   "execution_count": 48,
   "metadata": {},
   "outputs": [
    {
     "data": {
      "text/html": [
       "<div>\n",
       "<style scoped>\n",
       "    .dataframe tbody tr th:only-of-type {\n",
       "        vertical-align: middle;\n",
       "    }\n",
       "\n",
       "    .dataframe tbody tr th {\n",
       "        vertical-align: top;\n",
       "    }\n",
       "\n",
       "    .dataframe thead th {\n",
       "        text-align: right;\n",
       "    }\n",
       "</style>\n",
       "<table border=\"1\" class=\"dataframe\">\n",
       "  <thead>\n",
       "    <tr style=\"text-align: right;\">\n",
       "      <th></th>\n",
       "      <th>country</th>\n",
       "      <th>PC1</th>\n",
       "      <th>PC2</th>\n",
       "      <th>PC3</th>\n",
       "      <th>ClusterID</th>\n",
       "    </tr>\n",
       "  </thead>\n",
       "  <tbody>\n",
       "    <tr>\n",
       "      <th>0</th>\n",
       "      <td>Afghanistan</td>\n",
       "      <td>-2.637442</td>\n",
       "      <td>1.469038</td>\n",
       "      <td>-0.541359</td>\n",
       "      <td>2</td>\n",
       "    </tr>\n",
       "    <tr>\n",
       "      <th>1</th>\n",
       "      <td>Algeria</td>\n",
       "      <td>-0.457626</td>\n",
       "      <td>-0.673301</td>\n",
       "      <td>0.961867</td>\n",
       "      <td>1</td>\n",
       "    </tr>\n",
       "    <tr>\n",
       "      <th>2</th>\n",
       "      <td>Antigua and Barbuda</td>\n",
       "      <td>0.649849</td>\n",
       "      <td>-1.024374</td>\n",
       "      <td>-0.250103</td>\n",
       "      <td>1</td>\n",
       "    </tr>\n",
       "    <tr>\n",
       "      <th>3</th>\n",
       "      <td>Armenia</td>\n",
       "      <td>-0.332692</td>\n",
       "      <td>-1.274517</td>\n",
       "      <td>0.176636</td>\n",
       "      <td>1</td>\n",
       "    </tr>\n",
       "    <tr>\n",
       "      <th>4</th>\n",
       "      <td>Australia</td>\n",
       "      <td>3.180362</td>\n",
       "      <td>-0.250785</td>\n",
       "      <td>-0.116877</td>\n",
       "      <td>0</td>\n",
       "    </tr>\n",
       "  </tbody>\n",
       "</table>\n",
       "</div>"
      ],
      "text/plain": [
       "               country       PC1       PC2       PC3  ClusterID\n",
       "0          Afghanistan -2.637442  1.469038 -0.541359          2\n",
       "1              Algeria -0.457626 -0.673301  0.961867          1\n",
       "2  Antigua and Barbuda  0.649849 -1.024374 -0.250103          1\n",
       "3              Armenia -0.332692 -1.274517  0.176636          1\n",
       "4            Australia  3.180362 -0.250785 -0.116877          0"
      ]
     },
     "execution_count": 48,
     "metadata": {},
     "output_type": "execute_result"
    }
   ],
   "source": [
    "dat4=pcs_df2\n",
    "dat4.index = pd.RangeIndex(len(dat4.index))\n",
    "dat_km = pd.concat([dat4, pd.Series(model_clus2.labels_)], axis=1)\n",
    "dat_km.columns = ['country','PC1', 'PC2','PC3','ClusterID']\n",
    "dat_km.head()"
   ]
  },
  {
   "cell_type": "code",
   "execution_count": 49,
   "metadata": {},
   "outputs": [
    {
     "data": {
      "text/plain": [
       "1    61\n",
       "2    31\n",
       "0    27\n",
       "Name: ClusterID, dtype: int64"
      ]
     },
     "execution_count": 49,
     "metadata": {},
     "output_type": "execute_result"
    }
   ],
   "source": [
    "dat_km['ClusterID'].value_counts()"
   ]
  },
  {
   "cell_type": "code",
   "execution_count": 50,
   "metadata": {},
   "outputs": [
    {
     "data": {
      "text/plain": [
       "<matplotlib.axes._subplots.AxesSubplot at 0x1db2010c978>"
      ]
     },
     "execution_count": 50,
     "metadata": {},
     "output_type": "execute_result"
    },
    {
     "data": {
      "image/png": "[encoded data removed]",
      "text/plain": [
       "<Figure size 432x288 with 1 Axes>"
      ]
     },
     "metadata": {
      "needs_background": "light"
     },
     "output_type": "display_data"
    }
   ],
   "source": [
    "sns.scatterplot(x='PC1',y='PC2',hue='ClusterID',legend='full',data=dat_km)"
   ]
  },
  {
   "cell_type": "code",
   "execution_count": 51,
   "metadata": {},
   "outputs": [
    {
     "data": {
      "text/plain": [
       "<matplotlib.axes._subplots.AxesSubplot at 0x1db1ffff160>"
      ]
     },
     "execution_count": 51,
     "metadata": {},
     "output_type": "execute_result"
    },
    {
     "data": {
      "image/png": "[encoded data removed]",
      "text/plain": [
       "<Figure size 432x288 with 1 Axes>"
      ]
     },
     "metadata": {
      "needs_background": "light"
     },
     "output_type": "display_data"
    }
   ],
   "source": [
    "sns.scatterplot(x='PC1',y='PC3',hue='ClusterID',legend='full',data=dat_km)"
   ]
  },
  {
   "cell_type": "code",
   "execution_count": 52,
   "metadata": {},
   "outputs": [
    {
     "data": {
      "text/plain": [
       "<matplotlib.axes._subplots.AxesSubplot at 0x1db203a1240>"
      ]
     },
     "execution_count": 52,
     "metadata": {},
     "output_type": "execute_result"
    },
    {
     "data": {
      "image/png": "[encoded data removed]",
      "text/plain": [
       "<Figure size 432x288 with 1 Axes>"
      ]
     },
     "metadata": {
      "needs_background": "light"
     },
     "output_type": "display_data"
    }
   ],
   "source": [
    "sns.scatterplot(x='PC2',y='PC3',hue='ClusterID',legend='full',data=dat_km)"
   ]
  },
  {
   "cell_type": "code",
   "execution_count": 53,
   "metadata": {},
   "outputs": [
    {
     "data": {
      "text/html": [
       "<div>\n",
       "<style scoped>\n",
       "    .dataframe tbody tr th:only-of-type {\n",
       "        vertical-align: middle;\n",
       "    }\n",
       "\n",
       "    .dataframe tbody tr th {\n",
       "        vertical-align: top;\n",
       "    }\n",
       "\n",
       "    .dataframe thead th {\n",
       "        text-align: right;\n",
       "    }\n",
       "</style>\n",
       "<table border=\"1\" class=\"dataframe\">\n",
       "  <thead>\n",
       "    <tr style=\"text-align: right;\">\n",
       "      <th></th>\n",
       "      <th>country</th>\n",
       "      <th>child_mort</th>\n",
       "      <th>exports</th>\n",
       "      <th>health</th>\n",
       "      <th>imports</th>\n",
       "      <th>income</th>\n",
       "      <th>inflation</th>\n",
       "      <th>life_expec</th>\n",
       "      <th>total_fer</th>\n",
       "      <th>gdpp</th>\n",
       "      <th>PC1</th>\n",
       "      <th>PC2</th>\n",
       "      <th>PC3</th>\n",
       "      <th>ClusterID</th>\n",
       "    </tr>\n",
       "  </thead>\n",
       "  <tbody>\n",
       "    <tr>\n",
       "      <th>0</th>\n",
       "      <td>Afghanistan</td>\n",
       "      <td>90.2</td>\n",
       "      <td>55.30</td>\n",
       "      <td>41.9174</td>\n",
       "      <td>248.297</td>\n",
       "      <td>1610</td>\n",
       "      <td>9.44</td>\n",
       "      <td>56.2</td>\n",
       "      <td>5.82</td>\n",
       "      <td>553</td>\n",
       "      <td>-2.637442</td>\n",
       "      <td>1.469038</td>\n",
       "      <td>-0.541359</td>\n",
       "      <td>2</td>\n",
       "    </tr>\n",
       "    <tr>\n",
       "      <th>1</th>\n",
       "      <td>Algeria</td>\n",
       "      <td>27.3</td>\n",
       "      <td>1712.64</td>\n",
       "      <td>185.9820</td>\n",
       "      <td>1400.440</td>\n",
       "      <td>12900</td>\n",
       "      <td>16.10</td>\n",
       "      <td>76.5</td>\n",
       "      <td>2.89</td>\n",
       "      <td>4460</td>\n",
       "      <td>-0.457626</td>\n",
       "      <td>-0.673301</td>\n",
       "      <td>0.961867</td>\n",
       "      <td>1</td>\n",
       "    </tr>\n",
       "    <tr>\n",
       "      <th>2</th>\n",
       "      <td>Antigua and Barbuda</td>\n",
       "      <td>10.3</td>\n",
       "      <td>5551.00</td>\n",
       "      <td>735.6600</td>\n",
       "      <td>7185.800</td>\n",
       "      <td>19100</td>\n",
       "      <td>1.44</td>\n",
       "      <td>76.8</td>\n",
       "      <td>2.13</td>\n",
       "      <td>12200</td>\n",
       "      <td>0.649849</td>\n",
       "      <td>-1.024374</td>\n",
       "      <td>-0.250103</td>\n",
       "      <td>1</td>\n",
       "    </tr>\n",
       "    <tr>\n",
       "      <th>3</th>\n",
       "      <td>Armenia</td>\n",
       "      <td>18.1</td>\n",
       "      <td>669.76</td>\n",
       "      <td>141.6800</td>\n",
       "      <td>1458.660</td>\n",
       "      <td>6700</td>\n",
       "      <td>7.77</td>\n",
       "      <td>73.3</td>\n",
       "      <td>1.69</td>\n",
       "      <td>3220</td>\n",
       "      <td>-0.332692</td>\n",
       "      <td>-1.274517</td>\n",
       "      <td>0.176636</td>\n",
       "      <td>1</td>\n",
       "    </tr>\n",
       "    <tr>\n",
       "      <th>4</th>\n",
       "      <td>Australia</td>\n",
       "      <td>4.8</td>\n",
       "      <td>10276.20</td>\n",
       "      <td>4530.8700</td>\n",
       "      <td>10847.100</td>\n",
       "      <td>41400</td>\n",
       "      <td>1.16</td>\n",
       "      <td>82.0</td>\n",
       "      <td>1.93</td>\n",
       "      <td>51900</td>\n",
       "      <td>3.180362</td>\n",
       "      <td>-0.250785</td>\n",
       "      <td>-0.116877</td>\n",
       "      <td>0</td>\n",
       "    </tr>\n",
       "  </tbody>\n",
       "</table>\n",
       "</div>"
      ],
      "text/plain": [
       "               country  child_mort   exports     health    imports  income  \\\n",
       "0          Afghanistan        90.2     55.30    41.9174    248.297    1610   \n",
       "1              Algeria        27.3   1712.64   185.9820   1400.440   12900   \n",
       "2  Antigua and Barbuda        10.3   5551.00   735.6600   7185.800   19100   \n",
       "3              Armenia        18.1    669.76   141.6800   1458.660    6700   \n",
       "4            Australia         4.8  10276.20  4530.8700  10847.100   41400   \n",
       "\n",
       "   inflation  life_expec  total_fer   gdpp       PC1       PC2       PC3  \\\n",
       "0       9.44        56.2       5.82    553 -2.637442  1.469038 -0.541359   \n",
       "1      16.10        76.5       2.89   4460 -0.457626 -0.673301  0.961867   \n",
       "2       1.44        76.8       2.13  12200  0.649849 -1.024374 -0.250103   \n",
       "3       7.77        73.3       1.69   3220 -0.332692 -1.274517  0.176636   \n",
       "4       1.16        82.0       1.93  51900  3.180362 -0.250785 -0.116877   \n",
       "\n",
       "   ClusterID  \n",
       "0          2  \n",
       "1          1  \n",
       "2          1  \n",
       "3          1  \n",
       "4          0  "
      ]
     },
     "execution_count": 53,
     "metadata": {},
     "output_type": "execute_result"
    }
   ],
   "source": [
    "#merge the original dataset with the clusters. \n",
    "dat5=pd.merge(dat,dat_km,on='country')\n",
    "dat5.head()"
   ]
  },
  {
   "cell_type": "code",
   "execution_count": 54,
   "metadata": {},
   "outputs": [
    {
     "data": {
      "text/plain": [
       "(119, 5)"
      ]
     },
     "execution_count": 54,
     "metadata": {},
     "output_type": "execute_result"
    }
   ],
   "source": [
    "dat_km.shape"
   ]
  },
  {
   "cell_type": "code",
   "execution_count": 55,
   "metadata": {},
   "outputs": [
    {
     "data": {
      "text/plain": [
       "(119, 14)"
      ]
     },
     "execution_count": 55,
     "metadata": {},
     "output_type": "execute_result"
    }
   ],
   "source": [
    "dat5.shape"
   ]
  },
  {
   "cell_type": "code",
   "execution_count": 56,
   "metadata": {},
   "outputs": [
    {
     "data": {
      "text/html": [
       "<div>\n",
       "<style scoped>\n",
       "    .dataframe tbody tr th:only-of-type {\n",
       "        vertical-align: middle;\n",
       "    }\n",
       "\n",
       "    .dataframe tbody tr th {\n",
       "        vertical-align: top;\n",
       "    }\n",
       "\n",
       "    .dataframe thead th {\n",
       "        text-align: right;\n",
       "    }\n",
       "</style>\n",
       "<table border=\"1\" class=\"dataframe\">\n",
       "  <thead>\n",
       "    <tr style=\"text-align: right;\">\n",
       "      <th></th>\n",
       "      <th>country</th>\n",
       "      <th>child_mort</th>\n",
       "      <th>exports</th>\n",
       "      <th>health</th>\n",
       "      <th>imports</th>\n",
       "      <th>income</th>\n",
       "      <th>inflation</th>\n",
       "      <th>life_expec</th>\n",
       "      <th>total_fer</th>\n",
       "      <th>gdpp</th>\n",
       "      <th>ClusterID</th>\n",
       "    </tr>\n",
       "  </thead>\n",
       "  <tbody>\n",
       "    <tr>\n",
       "      <th>0</th>\n",
       "      <td>Afghanistan</td>\n",
       "      <td>90.2</td>\n",
       "      <td>55.30</td>\n",
       "      <td>41.9174</td>\n",
       "      <td>248.297</td>\n",
       "      <td>1610</td>\n",
       "      <td>9.44</td>\n",
       "      <td>56.2</td>\n",
       "      <td>5.82</td>\n",
       "      <td>553</td>\n",
       "      <td>2</td>\n",
       "    </tr>\n",
       "    <tr>\n",
       "      <th>1</th>\n",
       "      <td>Algeria</td>\n",
       "      <td>27.3</td>\n",
       "      <td>1712.64</td>\n",
       "      <td>185.9820</td>\n",
       "      <td>1400.440</td>\n",
       "      <td>12900</td>\n",
       "      <td>16.10</td>\n",
       "      <td>76.5</td>\n",
       "      <td>2.89</td>\n",
       "      <td>4460</td>\n",
       "      <td>1</td>\n",
       "    </tr>\n",
       "    <tr>\n",
       "      <th>2</th>\n",
       "      <td>Antigua and Barbuda</td>\n",
       "      <td>10.3</td>\n",
       "      <td>5551.00</td>\n",
       "      <td>735.6600</td>\n",
       "      <td>7185.800</td>\n",
       "      <td>19100</td>\n",
       "      <td>1.44</td>\n",
       "      <td>76.8</td>\n",
       "      <td>2.13</td>\n",
       "      <td>12200</td>\n",
       "      <td>1</td>\n",
       "    </tr>\n",
       "    <tr>\n",
       "      <th>3</th>\n",
       "      <td>Armenia</td>\n",
       "      <td>18.1</td>\n",
       "      <td>669.76</td>\n",
       "      <td>141.6800</td>\n",
       "      <td>1458.660</td>\n",
       "      <td>6700</td>\n",
       "      <td>7.77</td>\n",
       "      <td>73.3</td>\n",
       "      <td>1.69</td>\n",
       "      <td>3220</td>\n",
       "      <td>1</td>\n",
       "    </tr>\n",
       "    <tr>\n",
       "      <th>4</th>\n",
       "      <td>Australia</td>\n",
       "      <td>4.8</td>\n",
       "      <td>10276.20</td>\n",
       "      <td>4530.8700</td>\n",
       "      <td>10847.100</td>\n",
       "      <td>41400</td>\n",
       "      <td>1.16</td>\n",
       "      <td>82.0</td>\n",
       "      <td>1.93</td>\n",
       "      <td>51900</td>\n",
       "      <td>0</td>\n",
       "    </tr>\n",
       "  </tbody>\n",
       "</table>\n",
       "</div>"
      ],
      "text/plain": [
       "               country  child_mort   exports     health    imports  income  \\\n",
       "0          Afghanistan        90.2     55.30    41.9174    248.297    1610   \n",
       "1              Algeria        27.3   1712.64   185.9820   1400.440   12900   \n",
       "2  Antigua and Barbuda        10.3   5551.00   735.6600   7185.800   19100   \n",
       "3              Armenia        18.1    669.76   141.6800   1458.660    6700   \n",
       "4            Australia         4.8  10276.20  4530.8700  10847.100   41400   \n",
       "\n",
       "   inflation  life_expec  total_fer   gdpp  ClusterID  \n",
       "0       9.44        56.2       5.82    553          2  \n",
       "1      16.10        76.5       2.89   4460          1  \n",
       "2       1.44        76.8       2.13  12200          1  \n",
       "3       7.77        73.3       1.69   3220          1  \n",
       "4       1.16        82.0       1.93  51900          0  "
      ]
     },
     "execution_count": 56,
     "metadata": {},
     "output_type": "execute_result"
    }
   ],
   "source": [
    "dat6=dat5.drop(['PC1','PC2','PC3'],axis=1)\n",
    "dat6.head()"
   ]
  },
  {
   "cell_type": "code",
   "execution_count": 57,
   "metadata": {},
   "outputs": [
    {
     "data": {
      "text/plain": [
       "1    61\n",
       "2    31\n",
       "0    27\n",
       "Name: ClusterID, dtype: int64"
      ]
     },
     "execution_count": 57,
     "metadata": {},
     "output_type": "execute_result"
    }
   ],
   "source": [
    "dat6['ClusterID'].value_counts()"
   ]
  },
  {
   "cell_type": "code",
   "execution_count": 58,
   "metadata": {},
   "outputs": [
    {
     "data": {
      "text/plain": [
       "array(['Australia', 'Austria', 'Bahamas', 'Bahrain', 'Canada', 'Cyprus',\n",
       "       'Czech Republic', 'Finland', 'France', 'Germany', 'Greece',\n",
       "       'Iceland', 'Israel', 'Italy', 'Japan', 'Kuwait', 'Malta',\n",
       "       'New Zealand', 'Portugal', 'Slovak Republic', 'Slovenia',\n",
       "       'South Korea', 'Spain', 'Sweden', 'United Arab Emirates',\n",
       "       'United Kingdom', 'United States'], dtype=object)"
      ]
     },
     "execution_count": 58,
     "metadata": {},
     "output_type": "execute_result"
    }
   ],
   "source": [
    "dat6[dat6['ClusterID']==0].country.values"
   ]
  },
  {
   "cell_type": "code",
   "execution_count": 59,
   "metadata": {},
   "outputs": [
    {
     "data": {
      "text/plain": [
       "array(['Algeria', 'Antigua and Barbuda', 'Armenia', 'Azerbaijan',\n",
       "       'Bangladesh', 'Barbados', 'Belarus', 'Belize', 'Bhutan', 'Bolivia',\n",
       "       'Brazil', 'Bulgaria', 'Cape Verde', 'Chile', 'China', 'Colombia',\n",
       "       'Croatia', 'Dominican Republic', 'Ecuador', 'Egypt', 'El Salvador',\n",
       "       'Estonia', 'Fiji', 'Georgia', 'Grenada', 'Guatemala', 'Guyana',\n",
       "       'Hungary', 'Indonesia', 'Iran', 'Jamaica', 'Jordan', 'Kazakhstan',\n",
       "       'Kyrgyz Republic', 'Latvia', 'Libya', 'Lithuania', 'Malaysia',\n",
       "       'Maldives', 'Mauritius', 'Moldova', 'Morocco', 'Oman', 'Panama',\n",
       "       'Paraguay', 'Peru', 'Philippines', 'Poland', 'Romania', 'Russia',\n",
       "       'Samoa', 'Seychelles', 'St. Vincent and the Grenadines',\n",
       "       'Suriname', 'Tonga', 'Tunisia', 'Turkey', 'Ukraine', 'Uruguay',\n",
       "       'Uzbekistan', 'Vietnam'], dtype=object)"
      ]
     },
     "execution_count": 59,
     "metadata": {},
     "output_type": "execute_result"
    }
   ],
   "source": [
    "dat6[dat6['ClusterID']==1].country.values"
   ]
  },
  {
   "cell_type": "code",
   "execution_count": 60,
   "metadata": {},
   "outputs": [
    {
     "data": {
      "text/plain": [
       "array(['Afghanistan', 'Botswana', 'Cambodia', 'Comoros', 'Congo, Rep.',\n",
       "       'Eritrea', 'Gabon', 'Gambia', 'Ghana', 'India', 'Iraq', 'Kenya',\n",
       "       'Lao', 'Liberia', 'Madagascar', 'Mauritania',\n",
       "       'Micronesia, Fed. Sts.', 'Myanmar', 'Namibia', 'Nepal', 'Pakistan',\n",
       "       'Rwanda', 'Solomon Islands', 'South Africa', 'Sudan', 'Tajikistan',\n",
       "       'Tanzania', 'Turkmenistan', 'Uganda', 'Vanuatu', 'Yemen'],\n",
       "      dtype=object)"
      ]
     },
     "execution_count": 60,
     "metadata": {},
     "output_type": "execute_result"
    }
   ],
   "source": [
    "dat6[dat6['ClusterID']==2].country.values"
   ]
  },
  {
   "cell_type": "code",
   "execution_count": 61,
   "metadata": {},
   "outputs": [
    {
     "data": {
      "text/plain": [
       "<matplotlib.axes._subplots.AxesSubplot at 0x1db203cd390>"
      ]
     },
     "execution_count": 61,
     "metadata": {},
     "output_type": "execute_result"
    },
    {
     "data": {
      "image/png": "[encoded data removed]",
      "text/plain": [
       "<Figure size 432x288 with 1 Axes>"
      ]
     },
     "metadata": {
      "needs_background": "light"
     },
     "output_type": "display_data"
    }
   ],
   "source": [
    "sns.scatterplot(x='child_mort',y='gdpp',hue='ClusterID',data=dat6)"
   ]
  },
  {
   "cell_type": "code",
   "execution_count": 62,
   "metadata": {},
   "outputs": [
    {
     "data": {
      "text/plain": [
       "<matplotlib.axes._subplots.AxesSubplot at 0x1db21465400>"
      ]
     },
     "execution_count": 62,
     "metadata": {},
     "output_type": "execute_result"
    },
    {
     "data": {
      "image/png": "[encoded data removed]",
      "text/plain": [
       "<Figure size 432x288 with 1 Axes>"
      ]
     },
     "metadata": {
      "needs_background": "light"
     },
     "output_type": "display_data"
    }
   ],
   "source": [
    "sns.scatterplot(x='income',y='health',hue='ClusterID',data=dat6)"
   ]
  },
  {
   "cell_type": "markdown",
   "metadata": {},
   "source": [
    "#### So we have performed the clustering using the PCs and have now allocated the clusterIDs back to each of the datapoints"
   ]
  },
  {
   "cell_type": "markdown",
   "metadata": {},
   "source": [
    "## Analysis of Clusters"
   ]
  },
  {
   "cell_type": "code",
   "execution_count": 63,
   "metadata": {},
   "outputs": [],
   "source": [
    "clu_chilmort = \tpd.DataFrame(dat6.groupby([\"ClusterID\"]).child_mort.mean())\n",
    "clu_exports= \tpd.DataFrame(dat6.groupby([\"ClusterID\"]).exports.mean())\n",
    "clu_health= \tpd.DataFrame(dat6.groupby([\"ClusterID\"]).health.mean())\n",
    "clu_imports= \tpd.DataFrame(dat6.groupby([\"ClusterID\"]).imports.mean())\n",
    "clu_income = \tpd.DataFrame(dat6.groupby([\"ClusterID\"]).income.mean())\n",
    "clu_inflation= \tpd.DataFrame(dat6.groupby([\"ClusterID\"]).inflation.mean())\n",
    "clu_lifeexp= \tpd.DataFrame(dat6.groupby([\"ClusterID\"]).life_expec.mean())\n",
    "clu_totalfer= \tpd.DataFrame(dat6.groupby([\"ClusterID\"]).total_fer.mean())\n",
    "clu_gdpp= \tpd.DataFrame(dat6.groupby([\"ClusterID\"]).gdpp.mean())"
   ]
  },
  {
   "cell_type": "code",
   "execution_count": 64,
   "metadata": {},
   "outputs": [
    {
     "data": {
      "text/html": [
       "<div>\n",
       "<style scoped>\n",
       "    .dataframe tbody tr th:only-of-type {\n",
       "        vertical-align: middle;\n",
       "    }\n",
       "\n",
       "    .dataframe tbody tr th {\n",
       "        vertical-align: top;\n",
       "    }\n",
       "\n",
       "    .dataframe thead th {\n",
       "        text-align: right;\n",
       "    }\n",
       "</style>\n",
       "<table border=\"1\" class=\"dataframe\">\n",
       "  <thead>\n",
       "    <tr style=\"text-align: right;\">\n",
       "      <th></th>\n",
       "      <th>ClusterID</th>\n",
       "      <th>child_mort</th>\n",
       "      <th>exports</th>\n",
       "      <th>health</th>\n",
       "      <th>imports</th>\n",
       "      <th>income</th>\n",
       "      <th>inflation</th>\n",
       "      <th>life_expec</th>\n",
       "      <th>total_fer</th>\n",
       "      <th>gdpp</th>\n",
       "    </tr>\n",
       "  </thead>\n",
       "  <tbody>\n",
       "    <tr>\n",
       "      <th>0</th>\n",
       "      <td>0</td>\n",
       "      <td>5.322222</td>\n",
       "      <td>14504.025926</td>\n",
       "      <td>3249.133704</td>\n",
       "      <td>13650.455556</td>\n",
       "      <td>37170.370370</td>\n",
       "      <td>2.204556</td>\n",
       "      <td>79.777778</td>\n",
       "      <td>1.749259</td>\n",
       "      <td>34696.296296</td>\n",
       "    </tr>\n",
       "    <tr>\n",
       "      <th>1</th>\n",
       "      <td>1</td>\n",
       "      <td>20.221311</td>\n",
       "      <td>3071.619836</td>\n",
       "      <td>406.979256</td>\n",
       "      <td>3160.474656</td>\n",
       "      <td>12796.557377</td>\n",
       "      <td>6.627721</td>\n",
       "      <td>73.208197</td>\n",
       "      <td>2.272295</td>\n",
       "      <td>6636.360656</td>\n",
       "    </tr>\n",
       "    <tr>\n",
       "      <th>2</th>\n",
       "      <td>2</td>\n",
       "      <td>63.651613</td>\n",
       "      <td>861.023623</td>\n",
       "      <td>128.778690</td>\n",
       "      <td>858.977519</td>\n",
       "      <td>4450.000000</td>\n",
       "      <td>9.736452</td>\n",
       "      <td>63.329032</td>\n",
       "      <td>4.111935</td>\n",
       "      <td>2072.161290</td>\n",
       "    </tr>\n",
       "  </tbody>\n",
       "</table>\n",
       "</div>"
      ],
      "text/plain": [
       "   ClusterID  child_mort       exports       health       imports  \\\n",
       "0          0    5.322222  14504.025926  3249.133704  13650.455556   \n",
       "1          1   20.221311   3071.619836   406.979256   3160.474656   \n",
       "2          2   63.651613    861.023623   128.778690    858.977519   \n",
       "\n",
       "         income  inflation  life_expec  total_fer          gdpp  \n",
       "0  37170.370370   2.204556   79.777778   1.749259  34696.296296  \n",
       "1  12796.557377   6.627721   73.208197   2.272295   6636.360656  \n",
       "2   4450.000000   9.736452   63.329032   4.111935   2072.161290  "
      ]
     },
     "execution_count": 64,
     "metadata": {},
     "output_type": "execute_result"
    }
   ],
   "source": [
    "df = pd.concat([pd.Series([0,1,2]),clu_chilmort,clu_exports,clu_health,clu_imports,clu_income,\n",
    "               clu_inflation,clu_lifeexp,clu_totalfer,clu_gdpp], axis=1)\n",
    "df.columns = [\"ClusterID\",\"child_mort\",\"exports\",\"health\",\"imports\",\"income\",\"inflation\",\"life_expec\",\"total_fer\",\"gdpp\"]\n",
    "df"
   ]
  },
  {
   "cell_type": "code",
   "execution_count": 65,
   "metadata": {
    "scrolled": true
   },
   "outputs": [
    {
     "data": {
      "image/png": "[encoded data removed]",
      "text/plain": [
       "<Figure size 1080x1080 with 9 Axes>"
      ]
     },
     "metadata": {
      "needs_background": "light"
     },
     "output_type": "display_data"
    }
   ],
   "source": [
    "fig, axs = plt.subplots(3,3,figsize = (15,15))\n",
    "\n",
    "sns.barplot(x=df.ClusterID, y=df.child_mort, ax = axs[0,0])\n",
    "sns.barplot(x=df.ClusterID, y=df.exports, ax = axs[0,1])\n",
    "sns.barplot(x=df.ClusterID, y=df.health, ax = axs[0,2])\n",
    "sns.barplot(x=df.ClusterID, y=df.imports, ax = axs[1,0])\n",
    "sns.barplot(x=df.ClusterID, y=df.income, ax = axs[1,1])\n",
    "sns.barplot(x=df.ClusterID, y=df.life_expec, ax = axs[1,2])\n",
    "sns.barplot(x=df.ClusterID, y=df.inflation, ax = axs[2,0])\n",
    "sns.barplot(x=df.ClusterID, y=df.total_fer, ax = axs[2,1])\n",
    "sns.barplot(x=df.ClusterID, y=df.gdpp, ax = axs[2,2])\n",
    "plt.tight_layout()"
   ]
  },
  {
   "cell_type": "code",
   "execution_count": 66,
   "metadata": {},
   "outputs": [
    {
     "data": {
      "text/html": [
       "<div>\n",
       "<style scoped>\n",
       "    .dataframe tbody tr th:only-of-type {\n",
       "        vertical-align: middle;\n",
       "    }\n",
       "\n",
       "    .dataframe tbody tr th {\n",
       "        vertical-align: top;\n",
       "    }\n",
       "\n",
       "    .dataframe thead th {\n",
       "        text-align: right;\n",
       "    }\n",
       "</style>\n",
       "<table border=\"1\" class=\"dataframe\">\n",
       "  <thead>\n",
       "    <tr style=\"text-align: right;\">\n",
       "      <th></th>\n",
       "      <th>country</th>\n",
       "      <th>child_mort</th>\n",
       "      <th>exports</th>\n",
       "      <th>health</th>\n",
       "      <th>imports</th>\n",
       "      <th>income</th>\n",
       "      <th>inflation</th>\n",
       "      <th>life_expec</th>\n",
       "      <th>total_fer</th>\n",
       "      <th>gdpp</th>\n",
       "    </tr>\n",
       "  </thead>\n",
       "  <tbody>\n",
       "    <tr>\n",
       "      <th>66</th>\n",
       "      <td>Haiti</td>\n",
       "      <td>208.0</td>\n",
       "      <td>101.286</td>\n",
       "      <td>45.7442</td>\n",
       "      <td>428.314</td>\n",
       "      <td>1500</td>\n",
       "      <td>5.45</td>\n",
       "      <td>32.1</td>\n",
       "      <td>3.33</td>\n",
       "      <td>662</td>\n",
       "    </tr>\n",
       "    <tr>\n",
       "      <th>132</th>\n",
       "      <td>Sierra Leone</td>\n",
       "      <td>160.0</td>\n",
       "      <td>67.032</td>\n",
       "      <td>52.2690</td>\n",
       "      <td>137.655</td>\n",
       "      <td>1220</td>\n",
       "      <td>17.20</td>\n",
       "      <td>55.0</td>\n",
       "      <td>5.20</td>\n",
       "      <td>399</td>\n",
       "    </tr>\n",
       "    <tr>\n",
       "      <th>32</th>\n",
       "      <td>Chad</td>\n",
       "      <td>150.0</td>\n",
       "      <td>330.096</td>\n",
       "      <td>40.6341</td>\n",
       "      <td>390.195</td>\n",
       "      <td>1930</td>\n",
       "      <td>6.39</td>\n",
       "      <td>56.5</td>\n",
       "      <td>6.59</td>\n",
       "      <td>897</td>\n",
       "    </tr>\n",
       "    <tr>\n",
       "      <th>31</th>\n",
       "      <td>Central African Republic</td>\n",
       "      <td>149.0</td>\n",
       "      <td>52.628</td>\n",
       "      <td>17.7508</td>\n",
       "      <td>118.190</td>\n",
       "      <td>888</td>\n",
       "      <td>2.01</td>\n",
       "      <td>47.5</td>\n",
       "      <td>5.21</td>\n",
       "      <td>446</td>\n",
       "    </tr>\n",
       "    <tr>\n",
       "      <th>97</th>\n",
       "      <td>Mali</td>\n",
       "      <td>137.0</td>\n",
       "      <td>161.424</td>\n",
       "      <td>35.2584</td>\n",
       "      <td>248.508</td>\n",
       "      <td>1870</td>\n",
       "      <td>4.37</td>\n",
       "      <td>59.5</td>\n",
       "      <td>6.55</td>\n",
       "      <td>708</td>\n",
       "    </tr>\n",
       "  </tbody>\n",
       "</table>\n",
       "</div>"
      ],
      "text/plain": [
       "                      country  child_mort  exports   health  imports  income  \\\n",
       "66                      Haiti       208.0  101.286  45.7442  428.314    1500   \n",
       "132              Sierra Leone       160.0   67.032  52.2690  137.655    1220   \n",
       "32                       Chad       150.0  330.096  40.6341  390.195    1930   \n",
       "31   Central African Republic       149.0   52.628  17.7508  118.190     888   \n",
       "97                       Mali       137.0  161.424  35.2584  248.508    1870   \n",
       "\n",
       "     inflation  life_expec  total_fer  gdpp  \n",
       "66        5.45        32.1       3.33   662  \n",
       "132      17.20        55.0       5.20   399  \n",
       "32        6.39        56.5       6.59   897  \n",
       "31        2.01        47.5       5.21   446  \n",
       "97        4.37        59.5       6.55   708  "
      ]
     },
     "execution_count": 66,
     "metadata": {},
     "output_type": "execute_result"
    }
   ],
   "source": [
    "#Let's use the concept of binning\n",
    "fin=dat[dat['child_mort']>63.651613]\n",
    "fin=fin[fin['gdpp']<=2072.16]\n",
    "fin.sort_values(['child_mort','gdpp'],ascending=[0,0]).head()"
   ]
  },
  {
   "cell_type": "markdown",
   "metadata": {},
   "source": [
    "## Hierarchical Clustering"
   ]
  },
  {
   "cell_type": "code",
   "execution_count": 67,
   "metadata": {},
   "outputs": [
    {
     "data": {
      "image/png": "[encoded data removed]",
      "text/plain": [
       "<Figure size 432x288 with 1 Axes>"
      ]
     },
     "metadata": {
      "needs_background": "light"
     },
     "output_type": "display_data"
    }
   ],
   "source": [
    "mergings = linkage(dat3_1, method = \"single\", metric='euclidean')\n",
    "dendrogram(mergings)\n",
    "plt.show()"
   ]
  },
  {
   "cell_type": "code",
   "execution_count": 68,
   "metadata": {},
   "outputs": [
    {
     "data": {
      "image/png": "[encoded data removed]",
      "text/plain": [
       "<Figure size 432x288 with 1 Axes>"
      ]
     },
     "metadata": {
      "needs_background": "light"
     },
     "output_type": "display_data"
    }
   ],
   "source": [
    "mergings = linkage(dat3_1, method = \"complete\", metric='euclidean')\n",
    "dendrogram(mergings)\n",
    "plt.show()"
   ]
  },
  {
   "cell_type": "code",
   "execution_count": 69,
   "metadata": {},
   "outputs": [
    {
     "data": {
      "text/html": [
       "<div>\n",
       "<style scoped>\n",
       "    .dataframe tbody tr th:only-of-type {\n",
       "        vertical-align: middle;\n",
       "    }\n",
       "\n",
       "    .dataframe tbody tr th {\n",
       "        vertical-align: top;\n",
       "    }\n",
       "\n",
       "    .dataframe thead th {\n",
       "        text-align: right;\n",
       "    }\n",
       "</style>\n",
       "<table border=\"1\" class=\"dataframe\">\n",
       "  <thead>\n",
       "    <tr style=\"text-align: right;\">\n",
       "      <th></th>\n",
       "      <th>country</th>\n",
       "      <th>PC1</th>\n",
       "      <th>PC2</th>\n",
       "      <th>PC3</th>\n",
       "      <th>ClusterID</th>\n",
       "    </tr>\n",
       "  </thead>\n",
       "  <tbody>\n",
       "    <tr>\n",
       "      <th>0</th>\n",
       "      <td>Afghanistan</td>\n",
       "      <td>-2.637442</td>\n",
       "      <td>1.469038</td>\n",
       "      <td>-0.541359</td>\n",
       "      <td>0</td>\n",
       "    </tr>\n",
       "    <tr>\n",
       "      <th>1</th>\n",
       "      <td>Algeria</td>\n",
       "      <td>-0.457626</td>\n",
       "      <td>-0.673301</td>\n",
       "      <td>0.961867</td>\n",
       "      <td>1</td>\n",
       "    </tr>\n",
       "    <tr>\n",
       "      <th>2</th>\n",
       "      <td>Antigua and Barbuda</td>\n",
       "      <td>0.649849</td>\n",
       "      <td>-1.024374</td>\n",
       "      <td>-0.250103</td>\n",
       "      <td>1</td>\n",
       "    </tr>\n",
       "    <tr>\n",
       "      <th>3</th>\n",
       "      <td>Armenia</td>\n",
       "      <td>-0.332692</td>\n",
       "      <td>-1.274517</td>\n",
       "      <td>0.176636</td>\n",
       "      <td>1</td>\n",
       "    </tr>\n",
       "    <tr>\n",
       "      <th>4</th>\n",
       "      <td>Australia</td>\n",
       "      <td>3.180362</td>\n",
       "      <td>-0.250785</td>\n",
       "      <td>-0.116877</td>\n",
       "      <td>2</td>\n",
       "    </tr>\n",
       "  </tbody>\n",
       "</table>\n",
       "</div>"
      ],
      "text/plain": [
       "               country       PC1       PC2       PC3  ClusterID\n",
       "0          Afghanistan -2.637442  1.469038 -0.541359          0\n",
       "1              Algeria -0.457626 -0.673301  0.961867          1\n",
       "2  Antigua and Barbuda  0.649849 -1.024374 -0.250103          1\n",
       "3              Armenia -0.332692 -1.274517  0.176636          1\n",
       "4            Australia  3.180362 -0.250785 -0.116877          2"
      ]
     },
     "execution_count": 69,
     "metadata": {},
     "output_type": "execute_result"
    }
   ],
   "source": [
    "clusterCut = pd.Series(cut_tree(mergings, n_clusters =3).reshape(-1,))\n",
    "hc = pd.concat([pcs_df2, clusterCut], axis=1)\n",
    "hc.columns = ['country', 'PC1', 'PC2','PC3','ClusterID']\n",
    "hc.head()"
   ]
  },
  {
   "cell_type": "code",
   "execution_count": 70,
   "metadata": {},
   "outputs": [
    {
     "data": {
      "text/plain": [
       "(119, 5)"
      ]
     },
     "execution_count": 70,
     "metadata": {},
     "output_type": "execute_result"
    }
   ],
   "source": [
    "hc.shape"
   ]
  },
  {
   "cell_type": "code",
   "execution_count": 71,
   "metadata": {},
   "outputs": [
    {
     "data": {
      "text/plain": [
       "1    81\n",
       "0    23\n",
       "2    15\n",
       "Name: ClusterID, dtype: int64"
      ]
     },
     "execution_count": 71,
     "metadata": {},
     "output_type": "execute_result"
    }
   ],
   "source": [
    "hc['ClusterID'].value_counts()"
   ]
  },
  {
   "cell_type": "code",
   "execution_count": 72,
   "metadata": {},
   "outputs": [
    {
     "data": {
      "text/html": [
       "<div>\n",
       "<style scoped>\n",
       "    .dataframe tbody tr th:only-of-type {\n",
       "        vertical-align: middle;\n",
       "    }\n",
       "\n",
       "    .dataframe tbody tr th {\n",
       "        vertical-align: top;\n",
       "    }\n",
       "\n",
       "    .dataframe thead th {\n",
       "        text-align: right;\n",
       "    }\n",
       "</style>\n",
       "<table border=\"1\" class=\"dataframe\">\n",
       "  <thead>\n",
       "    <tr style=\"text-align: right;\">\n",
       "      <th></th>\n",
       "      <th>country</th>\n",
       "      <th>child_mort</th>\n",
       "      <th>exports</th>\n",
       "      <th>imports</th>\n",
       "      <th>health</th>\n",
       "      <th>income</th>\n",
       "      <th>inflation</th>\n",
       "      <th>life_expec</th>\n",
       "      <th>total_fer</th>\n",
       "      <th>gdpp</th>\n",
       "      <th>ClusterID</th>\n",
       "    </tr>\n",
       "  </thead>\n",
       "  <tbody>\n",
       "    <tr>\n",
       "      <th>0</th>\n",
       "      <td>Afghanistan</td>\n",
       "      <td>90.2</td>\n",
       "      <td>55.30</td>\n",
       "      <td>248.297</td>\n",
       "      <td>41.9174</td>\n",
       "      <td>1610</td>\n",
       "      <td>9.44</td>\n",
       "      <td>56.2</td>\n",
       "      <td>5.82</td>\n",
       "      <td>553</td>\n",
       "      <td>0</td>\n",
       "    </tr>\n",
       "    <tr>\n",
       "      <th>1</th>\n",
       "      <td>Algeria</td>\n",
       "      <td>27.3</td>\n",
       "      <td>1712.64</td>\n",
       "      <td>1400.440</td>\n",
       "      <td>185.9820</td>\n",
       "      <td>12900</td>\n",
       "      <td>16.10</td>\n",
       "      <td>76.5</td>\n",
       "      <td>2.89</td>\n",
       "      <td>4460</td>\n",
       "      <td>1</td>\n",
       "    </tr>\n",
       "    <tr>\n",
       "      <th>2</th>\n",
       "      <td>Antigua and Barbuda</td>\n",
       "      <td>10.3</td>\n",
       "      <td>5551.00</td>\n",
       "      <td>7185.800</td>\n",
       "      <td>735.6600</td>\n",
       "      <td>19100</td>\n",
       "      <td>1.44</td>\n",
       "      <td>76.8</td>\n",
       "      <td>2.13</td>\n",
       "      <td>12200</td>\n",
       "      <td>1</td>\n",
       "    </tr>\n",
       "    <tr>\n",
       "      <th>3</th>\n",
       "      <td>Armenia</td>\n",
       "      <td>18.1</td>\n",
       "      <td>669.76</td>\n",
       "      <td>1458.660</td>\n",
       "      <td>141.6800</td>\n",
       "      <td>6700</td>\n",
       "      <td>7.77</td>\n",
       "      <td>73.3</td>\n",
       "      <td>1.69</td>\n",
       "      <td>3220</td>\n",
       "      <td>1</td>\n",
       "    </tr>\n",
       "    <tr>\n",
       "      <th>4</th>\n",
       "      <td>Australia</td>\n",
       "      <td>4.8</td>\n",
       "      <td>10276.20</td>\n",
       "      <td>10847.100</td>\n",
       "      <td>4530.8700</td>\n",
       "      <td>41400</td>\n",
       "      <td>1.16</td>\n",
       "      <td>82.0</td>\n",
       "      <td>1.93</td>\n",
       "      <td>51900</td>\n",
       "      <td>2</td>\n",
       "    </tr>\n",
       "  </tbody>\n",
       "</table>\n",
       "</div>"
      ],
      "text/plain": [
       "               country  child_mort   exports    imports     health  income  \\\n",
       "0          Afghanistan        90.2     55.30    248.297    41.9174    1610   \n",
       "1              Algeria        27.3   1712.64   1400.440   185.9820   12900   \n",
       "2  Antigua and Barbuda        10.3   5551.00   7185.800   735.6600   19100   \n",
       "3              Armenia        18.1    669.76   1458.660   141.6800    6700   \n",
       "4            Australia         4.8  10276.20  10847.100  4530.8700   41400   \n",
       "\n",
       "   inflation  life_expec  total_fer   gdpp  ClusterID  \n",
       "0       9.44        56.2       5.82    553          0  \n",
       "1      16.10        76.5       2.89   4460          1  \n",
       "2       1.44        76.8       2.13  12200          1  \n",
       "3       7.77        73.3       1.69   3220          1  \n",
       "4       1.16        82.0       1.93  51900          2  "
      ]
     },
     "execution_count": 72,
     "metadata": {},
     "output_type": "execute_result"
    }
   ],
   "source": [
    "mhc1=pd.merge(dat,hc,on='country')\n",
    "mhc=mhc1[['country','child_mort','exports','imports','health','income','inflation','life_expec','total_fer','gdpp','ClusterID']]\n",
    "mhc.head()"
   ]
  },
  {
   "cell_type": "code",
   "execution_count": 73,
   "metadata": {},
   "outputs": [
    {
     "data": {
      "text/plain": [
       "1    81\n",
       "0    23\n",
       "2    15\n",
       "Name: ClusterID, dtype: int64"
      ]
     },
     "execution_count": 73,
     "metadata": {},
     "output_type": "execute_result"
    }
   ],
   "source": [
    "mhc['ClusterID'].value_counts()"
   ]
  },
  {
   "cell_type": "code",
   "execution_count": 74,
   "metadata": {},
   "outputs": [
    {
     "data": {
      "text/plain": [
       "array(['Afghanistan', 'Botswana', 'Comoros', 'Congo, Rep.', 'Eritrea',\n",
       "       'Gabon', 'Gambia', 'Ghana', 'Iraq', 'Kenya'], dtype=object)"
      ]
     },
     "execution_count": 74,
     "metadata": {},
     "output_type": "execute_result"
    }
   ],
   "source": [
    "mhc[mhc.ClusterID == 0].country.values[0:10]"
   ]
  },
  {
   "cell_type": "code",
   "execution_count": 75,
   "metadata": {},
   "outputs": [
    {
     "data": {
      "text/plain": [
       "array(['Algeria', 'Antigua and Barbuda', 'Armenia', 'Azerbaijan',\n",
       "       'Bahamas', 'Bahrain', 'Bangladesh', 'Barbados', 'Belarus',\n",
       "       'Belize', 'Bhutan', 'Bolivia', 'Brazil', 'Bulgaria', 'Cambodia',\n",
       "       'Cape Verde', 'Chile', 'China', 'Colombia', 'Croatia', 'Cyprus',\n",
       "       'Czech Republic', 'Dominican Republic', 'Ecuador', 'Egypt',\n",
       "       'El Salvador', 'Estonia', 'Fiji', 'Georgia', 'Greece', 'Grenada',\n",
       "       'Guatemala', 'Guyana', 'Hungary', 'India', 'Indonesia', 'Iran',\n",
       "       'Israel', 'Jamaica', 'Jordan', 'Kazakhstan', 'Kyrgyz Republic',\n",
       "       'Latvia', 'Libya', 'Lithuania', 'Malaysia', 'Maldives',\n",
       "       'Mauritius', 'Micronesia, Fed. Sts.', 'Moldova', 'Morocco',\n",
       "       'Myanmar', 'Nepal', 'New Zealand', 'Oman', 'Panama', 'Paraguay',\n",
       "       'Peru', 'Philippines', 'Poland', 'Portugal', 'Romania', 'Russia',\n",
       "       'Samoa', 'Seychelles', 'Slovak Republic', 'Slovenia',\n",
       "       'South Korea', 'Spain', 'St. Vincent and the Grenadines',\n",
       "       'Suriname', 'Tajikistan', 'Tonga', 'Tunisia', 'Turkey',\n",
       "       'Turkmenistan', 'Ukraine', 'Uruguay', 'Uzbekistan', 'Vanuatu',\n",
       "       'Vietnam'], dtype=object)"
      ]
     },
     "execution_count": 75,
     "metadata": {},
     "output_type": "execute_result"
    }
   ],
   "source": [
    "mhc[mhc.ClusterID==1].country.values"
   ]
  },
  {
   "cell_type": "code",
   "execution_count": 76,
   "metadata": {},
   "outputs": [
    {
     "data": {
      "text/plain": [
       "array(['Australia', 'Austria', 'Canada', 'Finland', 'France'],\n",
       "      dtype=object)"
      ]
     },
     "execution_count": 76,
     "metadata": {},
     "output_type": "execute_result"
    }
   ],
   "source": [
    "mhc[mhc.ClusterID==2].country.values[ :5]"
   ]
  },
  {
   "cell_type": "code",
   "execution_count": 77,
   "metadata": {},
   "outputs": [
    {
     "data": {
      "text/plain": [
       "<matplotlib.axes._subplots.AxesSubplot at 0x1db218e21d0>"
      ]
     },
     "execution_count": 77,
     "metadata": {},
     "output_type": "execute_result"
    },
    {
     "data": {
      "image/png": "[encoded data removed]",
      "text/plain": [
       "<Figure size 432x288 with 1 Axes>"
      ]
     },
     "metadata": {
      "needs_background": "light"
     },
     "output_type": "display_data"
    }
   ],
   "source": [
    "sns.scatterplot(x='child_mort',y='gdpp',hue='ClusterID',data=mhc)"
   ]
  },
  {
   "cell_type": "markdown",
   "metadata": {},
   "source": [
    "## Analysis of Clusters"
   ]
  },
  {
   "cell_type": "code",
   "execution_count": 78,
   "metadata": {},
   "outputs": [],
   "source": [
    "hc_chilmort = \tpd.DataFrame(mhc.groupby([\"ClusterID\"]).child_mort.mean())\n",
    "hc_exports= \tpd.DataFrame(mhc.groupby([\"ClusterID\"]).exports.mean())\n",
    "hc_health= \tpd.DataFrame(mhc.groupby([\"ClusterID\"]).health.mean())\n",
    "hc_imports= \tpd.DataFrame(mhc.groupby([\"ClusterID\"]).imports.mean())\n",
    "hc_income = \tpd.DataFrame(mhc.groupby([\"ClusterID\"]).income.mean())\n",
    "hc_inflation= \tpd.DataFrame(mhc.groupby([\"ClusterID\"]).inflation.mean())\n",
    "hc_lifeexp= \tpd.DataFrame(mhc.groupby([\"ClusterID\"]).life_expec.mean())\n",
    "hc_totalfer= \tpd.DataFrame(mhc.groupby([\"ClusterID\"]).total_fer.mean())\n",
    "hc_gdpp= \tpd.DataFrame(mhc.groupby([\"ClusterID\"]).gdpp.mean())"
   ]
  },
  {
   "cell_type": "code",
   "execution_count": 79,
   "metadata": {},
   "outputs": [
    {
     "data": {
      "text/html": [
       "<div>\n",
       "<style scoped>\n",
       "    .dataframe tbody tr th:only-of-type {\n",
       "        vertical-align: middle;\n",
       "    }\n",
       "\n",
       "    .dataframe tbody tr th {\n",
       "        vertical-align: top;\n",
       "    }\n",
       "\n",
       "    .dataframe thead th {\n",
       "        text-align: right;\n",
       "    }\n",
       "</style>\n",
       "<table border=\"1\" class=\"dataframe\">\n",
       "  <thead>\n",
       "    <tr style=\"text-align: right;\">\n",
       "      <th></th>\n",
       "      <th>ClusterID</th>\n",
       "      <th>child_mort</th>\n",
       "      <th>exports</th>\n",
       "      <th>health</th>\n",
       "      <th>imports</th>\n",
       "      <th>income</th>\n",
       "      <th>inflation</th>\n",
       "      <th>life_expec</th>\n",
       "      <th>total_fer</th>\n",
       "      <th>gdpp</th>\n",
       "    </tr>\n",
       "  </thead>\n",
       "  <tbody>\n",
       "    <tr>\n",
       "      <th>0</th>\n",
       "      <td>0</td>\n",
       "      <td>68.478261</td>\n",
       "      <td>884.774513</td>\n",
       "      <td>135.873852</td>\n",
       "      <td>838.634174</td>\n",
       "      <td>4650.869565</td>\n",
       "      <td>10.711304</td>\n",
       "      <td>62.169565</td>\n",
       "      <td>4.507391</td>\n",
       "      <td>2152.739130</td>\n",
       "    </tr>\n",
       "    <tr>\n",
       "      <th>1</th>\n",
       "      <td>1</td>\n",
       "      <td>20.960494</td>\n",
       "      <td>4030.595414</td>\n",
       "      <td>635.004141</td>\n",
       "      <td>4139.667544</td>\n",
       "      <td>14473.703704</td>\n",
       "      <td>5.889160</td>\n",
       "      <td>73.403704</td>\n",
       "      <td>2.259630</td>\n",
       "      <td>8954.839506</td>\n",
       "    </tr>\n",
       "    <tr>\n",
       "      <th>2</th>\n",
       "      <td>2</td>\n",
       "      <td>5.173333</td>\n",
       "      <td>17256.080000</td>\n",
       "      <td>4132.270000</td>\n",
       "      <td>15558.526667</td>\n",
       "      <td>42853.333333</td>\n",
       "      <td>2.817467</td>\n",
       "      <td>80.486667</td>\n",
       "      <td>1.774000</td>\n",
       "      <td>42066.666667</td>\n",
       "    </tr>\n",
       "  </tbody>\n",
       "</table>\n",
       "</div>"
      ],
      "text/plain": [
       "   ClusterID  child_mort       exports       health       imports  \\\n",
       "0          0   68.478261    884.774513   135.873852    838.634174   \n",
       "1          1   20.960494   4030.595414   635.004141   4139.667544   \n",
       "2          2    5.173333  17256.080000  4132.270000  15558.526667   \n",
       "\n",
       "         income  inflation  life_expec  total_fer          gdpp  \n",
       "0   4650.869565  10.711304   62.169565   4.507391   2152.739130  \n",
       "1  14473.703704   5.889160   73.403704   2.259630   8954.839506  \n",
       "2  42853.333333   2.817467   80.486667   1.774000  42066.666667  "
      ]
     },
     "execution_count": 79,
     "metadata": {},
     "output_type": "execute_result"
    }
   ],
   "source": [
    "hc_df = pd.concat([pd.Series([0,1,2]),hc_chilmort,hc_exports,hc_health,hc_imports,hc_income,\n",
    "               hc_inflation,hc_lifeexp,hc_totalfer,hc_gdpp], axis=1)\n",
    "hc_df.columns = [\"ClusterID\",\"child_mort\",\"exports\",\"health\",\"imports\",\"income\",\"inflation\",\"life_expec\",\"total_fer\",\"gdpp\"]\n",
    "hc_df"
   ]
  },
  {
   "cell_type": "markdown",
   "metadata": {},
   "source": [
    "bins"
   ]
  },
  {
   "cell_type": "code",
   "execution_count": 80,
   "metadata": {},
   "outputs": [
    {
     "data": {
      "image/png": "[encoded data removed]",
      "text/plain": [
       "<Figure size 1080x1080 with 9 Axes>"
      ]
     },
     "metadata": {
      "needs_background": "light"
     },
     "output_type": "display_data"
    }
   ],
   "source": [
    "fig, axs = plt.subplots(3,3,figsize = (15,15))\n",
    "\n",
    "sns.barplot(x=hc_df.ClusterID, y=hc_df.child_mort, ax = axs[0,0])\n",
    "sns.barplot(x=hc_df.ClusterID, y=hc_df.exports, ax = axs[0,1])\n",
    "sns.barplot(x=hc_df.ClusterID, y=hc_df.health, ax = axs[0,2])\n",
    "sns.barplot(x=hc_df.ClusterID, y=hc_df.imports, ax = axs[1,0])\n",
    "sns.barplot(x=hc_df.ClusterID, y=hc_df.income, ax = axs[1,1])\n",
    "sns.barplot(x=hc_df.ClusterID, y=hc_df.life_expec, ax = axs[1,2])\n",
    "sns.barplot(x=hc_df.ClusterID, y=hc_df.inflation, ax = axs[2,0])\n",
    "sns.barplot(x=hc_df.ClusterID, y=hc_df.total_fer, ax = axs[2,1])\n",
    "sns.barplot(x=hc_df.ClusterID, y=hc_df.gdpp, ax = axs[2,2])\n",
    "plt.tight_layout()"
   ]
  },
  {
   "cell_type": "code",
   "execution_count": 88,
   "metadata": {
    "scrolled": false
   },
   "outputs": [
    {
     "data": {
      "text/html": [
       "<div>\n",
       "<style scoped>\n",
       "    .dataframe tbody tr th:only-of-type {\n",
       "        vertical-align: middle;\n",
       "    }\n",
       "\n",
       "    .dataframe tbody tr th {\n",
       "        vertical-align: top;\n",
       "    }\n",
       "\n",
       "    .dataframe thead th {\n",
       "        text-align: right;\n",
       "    }\n",
       "</style>\n",
       "<table border=\"1\" class=\"dataframe\">\n",
       "  <thead>\n",
       "    <tr style=\"text-align: right;\">\n",
       "      <th></th>\n",
       "      <th>country</th>\n",
       "      <th>child_mort</th>\n",
       "      <th>exports</th>\n",
       "      <th>health</th>\n",
       "      <th>imports</th>\n",
       "      <th>income</th>\n",
       "      <th>inflation</th>\n",
       "      <th>life_expec</th>\n",
       "      <th>total_fer</th>\n",
       "      <th>gdpp</th>\n",
       "    </tr>\n",
       "  </thead>\n",
       "  <tbody>\n",
       "    <tr>\n",
       "      <th>66</th>\n",
       "      <td>Haiti</td>\n",
       "      <td>208.0</td>\n",
       "      <td>101.2860</td>\n",
       "      <td>45.7442</td>\n",
       "      <td>428.314</td>\n",
       "      <td>1500</td>\n",
       "      <td>5.450</td>\n",
       "      <td>32.1</td>\n",
       "      <td>3.33</td>\n",
       "      <td>662</td>\n",
       "    </tr>\n",
       "    <tr>\n",
       "      <th>132</th>\n",
       "      <td>Sierra Leone</td>\n",
       "      <td>160.0</td>\n",
       "      <td>67.0320</td>\n",
       "      <td>52.2690</td>\n",
       "      <td>137.655</td>\n",
       "      <td>1220</td>\n",
       "      <td>17.200</td>\n",
       "      <td>55.0</td>\n",
       "      <td>5.20</td>\n",
       "      <td>399</td>\n",
       "    </tr>\n",
       "    <tr>\n",
       "      <th>32</th>\n",
       "      <td>Chad</td>\n",
       "      <td>150.0</td>\n",
       "      <td>330.0960</td>\n",
       "      <td>40.6341</td>\n",
       "      <td>390.195</td>\n",
       "      <td>1930</td>\n",
       "      <td>6.390</td>\n",
       "      <td>56.5</td>\n",
       "      <td>6.59</td>\n",
       "      <td>897</td>\n",
       "    </tr>\n",
       "    <tr>\n",
       "      <th>31</th>\n",
       "      <td>Central African Republic</td>\n",
       "      <td>149.0</td>\n",
       "      <td>52.6280</td>\n",
       "      <td>17.7508</td>\n",
       "      <td>118.190</td>\n",
       "      <td>888</td>\n",
       "      <td>2.010</td>\n",
       "      <td>47.5</td>\n",
       "      <td>5.21</td>\n",
       "      <td>446</td>\n",
       "    </tr>\n",
       "    <tr>\n",
       "      <th>97</th>\n",
       "      <td>Mali</td>\n",
       "      <td>137.0</td>\n",
       "      <td>161.4240</td>\n",
       "      <td>35.2584</td>\n",
       "      <td>248.508</td>\n",
       "      <td>1870</td>\n",
       "      <td>4.370</td>\n",
       "      <td>59.5</td>\n",
       "      <td>6.55</td>\n",
       "      <td>708</td>\n",
       "    </tr>\n",
       "    <tr>\n",
       "      <th>112</th>\n",
       "      <td>Niger</td>\n",
       "      <td>123.0</td>\n",
       "      <td>77.2560</td>\n",
       "      <td>17.9568</td>\n",
       "      <td>170.868</td>\n",
       "      <td>814</td>\n",
       "      <td>2.550</td>\n",
       "      <td>58.8</td>\n",
       "      <td>7.49</td>\n",
       "      <td>348</td>\n",
       "    </tr>\n",
       "    <tr>\n",
       "      <th>25</th>\n",
       "      <td>Burkina Faso</td>\n",
       "      <td>116.0</td>\n",
       "      <td>110.4000</td>\n",
       "      <td>38.7550</td>\n",
       "      <td>170.200</td>\n",
       "      <td>1430</td>\n",
       "      <td>6.810</td>\n",
       "      <td>57.9</td>\n",
       "      <td>5.87</td>\n",
       "      <td>575</td>\n",
       "    </tr>\n",
       "    <tr>\n",
       "      <th>37</th>\n",
       "      <td>Congo, Dem. Rep.</td>\n",
       "      <td>116.0</td>\n",
       "      <td>137.2740</td>\n",
       "      <td>26.4194</td>\n",
       "      <td>165.664</td>\n",
       "      <td>609</td>\n",
       "      <td>20.800</td>\n",
       "      <td>57.5</td>\n",
       "      <td>6.54</td>\n",
       "      <td>334</td>\n",
       "    </tr>\n",
       "    <tr>\n",
       "      <th>64</th>\n",
       "      <td>Guinea-Bissau</td>\n",
       "      <td>114.0</td>\n",
       "      <td>81.5030</td>\n",
       "      <td>46.4950</td>\n",
       "      <td>192.544</td>\n",
       "      <td>1390</td>\n",
       "      <td>2.970</td>\n",
       "      <td>55.6</td>\n",
       "      <td>5.05</td>\n",
       "      <td>547</td>\n",
       "    </tr>\n",
       "    <tr>\n",
       "      <th>40</th>\n",
       "      <td>Cote d'Ivoire</td>\n",
       "      <td>111.0</td>\n",
       "      <td>617.3200</td>\n",
       "      <td>64.6600</td>\n",
       "      <td>528.260</td>\n",
       "      <td>2690</td>\n",
       "      <td>5.390</td>\n",
       "      <td>56.3</td>\n",
       "      <td>5.27</td>\n",
       "      <td>1220</td>\n",
       "    </tr>\n",
       "    <tr>\n",
       "      <th>17</th>\n",
       "      <td>Benin</td>\n",
       "      <td>111.0</td>\n",
       "      <td>180.4040</td>\n",
       "      <td>31.0780</td>\n",
       "      <td>281.976</td>\n",
       "      <td>1820</td>\n",
       "      <td>0.885</td>\n",
       "      <td>61.8</td>\n",
       "      <td>5.36</td>\n",
       "      <td>758</td>\n",
       "    </tr>\n",
       "    <tr>\n",
       "      <th>63</th>\n",
       "      <td>Guinea</td>\n",
       "      <td>109.0</td>\n",
       "      <td>196.3440</td>\n",
       "      <td>31.9464</td>\n",
       "      <td>279.936</td>\n",
       "      <td>1190</td>\n",
       "      <td>16.100</td>\n",
       "      <td>58.0</td>\n",
       "      <td>5.34</td>\n",
       "      <td>648</td>\n",
       "    </tr>\n",
       "    <tr>\n",
       "      <th>28</th>\n",
       "      <td>Cameroon</td>\n",
       "      <td>108.0</td>\n",
       "      <td>290.8200</td>\n",
       "      <td>67.2030</td>\n",
       "      <td>353.700</td>\n",
       "      <td>2660</td>\n",
       "      <td>1.910</td>\n",
       "      <td>57.3</td>\n",
       "      <td>5.11</td>\n",
       "      <td>1310</td>\n",
       "    </tr>\n",
       "    <tr>\n",
       "      <th>106</th>\n",
       "      <td>Mozambique</td>\n",
       "      <td>101.0</td>\n",
       "      <td>131.9850</td>\n",
       "      <td>21.8299</td>\n",
       "      <td>193.578</td>\n",
       "      <td>918</td>\n",
       "      <td>7.640</td>\n",
       "      <td>54.5</td>\n",
       "      <td>5.56</td>\n",
       "      <td>419</td>\n",
       "    </tr>\n",
       "    <tr>\n",
       "      <th>87</th>\n",
       "      <td>Lesotho</td>\n",
       "      <td>99.7</td>\n",
       "      <td>460.9800</td>\n",
       "      <td>129.8700</td>\n",
       "      <td>1181.700</td>\n",
       "      <td>2380</td>\n",
       "      <td>4.150</td>\n",
       "      <td>46.5</td>\n",
       "      <td>3.30</td>\n",
       "      <td>1170</td>\n",
       "    </tr>\n",
       "    <tr>\n",
       "      <th>99</th>\n",
       "      <td>Mauritania</td>\n",
       "      <td>97.4</td>\n",
       "      <td>608.4000</td>\n",
       "      <td>52.9200</td>\n",
       "      <td>734.400</td>\n",
       "      <td>3320</td>\n",
       "      <td>18.900</td>\n",
       "      <td>68.2</td>\n",
       "      <td>4.98</td>\n",
       "      <td>1200</td>\n",
       "    </tr>\n",
       "    <tr>\n",
       "      <th>26</th>\n",
       "      <td>Burundi</td>\n",
       "      <td>93.6</td>\n",
       "      <td>20.6052</td>\n",
       "      <td>26.7960</td>\n",
       "      <td>90.552</td>\n",
       "      <td>764</td>\n",
       "      <td>12.300</td>\n",
       "      <td>57.7</td>\n",
       "      <td>6.26</td>\n",
       "      <td>231</td>\n",
       "    </tr>\n",
       "    <tr>\n",
       "      <th>116</th>\n",
       "      <td>Pakistan</td>\n",
       "      <td>92.1</td>\n",
       "      <td>140.4000</td>\n",
       "      <td>22.8800</td>\n",
       "      <td>201.760</td>\n",
       "      <td>4280</td>\n",
       "      <td>10.900</td>\n",
       "      <td>65.3</td>\n",
       "      <td>3.85</td>\n",
       "      <td>1040</td>\n",
       "    </tr>\n",
       "    <tr>\n",
       "      <th>94</th>\n",
       "      <td>Malawi</td>\n",
       "      <td>90.5</td>\n",
       "      <td>104.6520</td>\n",
       "      <td>30.2481</td>\n",
       "      <td>160.191</td>\n",
       "      <td>1030</td>\n",
       "      <td>12.100</td>\n",
       "      <td>53.1</td>\n",
       "      <td>5.31</td>\n",
       "      <td>459</td>\n",
       "    </tr>\n",
       "    <tr>\n",
       "      <th>150</th>\n",
       "      <td>Togo</td>\n",
       "      <td>90.3</td>\n",
       "      <td>196.1760</td>\n",
       "      <td>37.3320</td>\n",
       "      <td>279.624</td>\n",
       "      <td>1210</td>\n",
       "      <td>1.180</td>\n",
       "      <td>58.7</td>\n",
       "      <td>4.87</td>\n",
       "      <td>488</td>\n",
       "    </tr>\n",
       "    <tr>\n",
       "      <th>0</th>\n",
       "      <td>Afghanistan</td>\n",
       "      <td>90.2</td>\n",
       "      <td>55.3000</td>\n",
       "      <td>41.9174</td>\n",
       "      <td>248.297</td>\n",
       "      <td>1610</td>\n",
       "      <td>9.440</td>\n",
       "      <td>56.2</td>\n",
       "      <td>5.82</td>\n",
       "      <td>553</td>\n",
       "    </tr>\n",
       "    <tr>\n",
       "      <th>88</th>\n",
       "      <td>Liberia</td>\n",
       "      <td>89.3</td>\n",
       "      <td>62.4570</td>\n",
       "      <td>38.5860</td>\n",
       "      <td>302.802</td>\n",
       "      <td>700</td>\n",
       "      <td>5.470</td>\n",
       "      <td>60.8</td>\n",
       "      <td>5.02</td>\n",
       "      <td>327</td>\n",
       "    </tr>\n",
       "    <tr>\n",
       "      <th>36</th>\n",
       "      <td>Comoros</td>\n",
       "      <td>88.2</td>\n",
       "      <td>126.8850</td>\n",
       "      <td>34.6819</td>\n",
       "      <td>397.573</td>\n",
       "      <td>1410</td>\n",
       "      <td>3.870</td>\n",
       "      <td>65.9</td>\n",
       "      <td>4.75</td>\n",
       "      <td>769</td>\n",
       "    </tr>\n",
       "    <tr>\n",
       "      <th>166</th>\n",
       "      <td>Zambia</td>\n",
       "      <td>83.1</td>\n",
       "      <td>540.2000</td>\n",
       "      <td>85.9940</td>\n",
       "      <td>451.140</td>\n",
       "      <td>3280</td>\n",
       "      <td>14.000</td>\n",
       "      <td>52.0</td>\n",
       "      <td>5.40</td>\n",
       "      <td>1460</td>\n",
       "    </tr>\n",
       "    <tr>\n",
       "      <th>155</th>\n",
       "      <td>Uganda</td>\n",
       "      <td>81.0</td>\n",
       "      <td>101.7450</td>\n",
       "      <td>53.6095</td>\n",
       "      <td>170.170</td>\n",
       "      <td>1540</td>\n",
       "      <td>10.600</td>\n",
       "      <td>56.8</td>\n",
       "      <td>6.15</td>\n",
       "      <td>595</td>\n",
       "    </tr>\n",
       "    <tr>\n",
       "      <th>56</th>\n",
       "      <td>Gambia</td>\n",
       "      <td>80.3</td>\n",
       "      <td>133.7560</td>\n",
       "      <td>31.9778</td>\n",
       "      <td>239.974</td>\n",
       "      <td>1660</td>\n",
       "      <td>4.300</td>\n",
       "      <td>65.5</td>\n",
       "      <td>5.71</td>\n",
       "      <td>562</td>\n",
       "    </tr>\n",
       "    <tr>\n",
       "      <th>84</th>\n",
       "      <td>Lao</td>\n",
       "      <td>78.9</td>\n",
       "      <td>403.5600</td>\n",
       "      <td>50.9580</td>\n",
       "      <td>562.020</td>\n",
       "      <td>3980</td>\n",
       "      <td>9.200</td>\n",
       "      <td>63.8</td>\n",
       "      <td>3.15</td>\n",
       "      <td>1140</td>\n",
       "    </tr>\n",
       "    <tr>\n",
       "      <th>142</th>\n",
       "      <td>Sudan</td>\n",
       "      <td>76.7</td>\n",
       "      <td>291.5600</td>\n",
       "      <td>93.5360</td>\n",
       "      <td>254.560</td>\n",
       "      <td>3370</td>\n",
       "      <td>19.600</td>\n",
       "      <td>66.3</td>\n",
       "      <td>4.88</td>\n",
       "      <td>1480</td>\n",
       "    </tr>\n",
       "    <tr>\n",
       "      <th>59</th>\n",
       "      <td>Ghana</td>\n",
       "      <td>74.7</td>\n",
       "      <td>386.4500</td>\n",
       "      <td>68.3820</td>\n",
       "      <td>601.290</td>\n",
       "      <td>3060</td>\n",
       "      <td>16.600</td>\n",
       "      <td>62.2</td>\n",
       "      <td>4.27</td>\n",
       "      <td>1310</td>\n",
       "    </tr>\n",
       "    <tr>\n",
       "      <th>147</th>\n",
       "      <td>Tanzania</td>\n",
       "      <td>71.9</td>\n",
       "      <td>131.2740</td>\n",
       "      <td>42.1902</td>\n",
       "      <td>204.282</td>\n",
       "      <td>2090</td>\n",
       "      <td>9.250</td>\n",
       "      <td>59.3</td>\n",
       "      <td>5.43</td>\n",
       "      <td>702</td>\n",
       "    </tr>\n",
       "  </tbody>\n",
       "</table>\n",
       "</div>"
      ],
      "text/plain": [
       "                      country  child_mort   exports    health   imports  \\\n",
       "66                      Haiti       208.0  101.2860   45.7442   428.314   \n",
       "132              Sierra Leone       160.0   67.0320   52.2690   137.655   \n",
       "32                       Chad       150.0  330.0960   40.6341   390.195   \n",
       "31   Central African Republic       149.0   52.6280   17.7508   118.190   \n",
       "97                       Mali       137.0  161.4240   35.2584   248.508   \n",
       "112                     Niger       123.0   77.2560   17.9568   170.868   \n",
       "25               Burkina Faso       116.0  110.4000   38.7550   170.200   \n",
       "37           Congo, Dem. Rep.       116.0  137.2740   26.4194   165.664   \n",
       "64              Guinea-Bissau       114.0   81.5030   46.4950   192.544   \n",
       "40              Cote d'Ivoire       111.0  617.3200   64.6600   528.260   \n",
       "17                      Benin       111.0  180.4040   31.0780   281.976   \n",
       "63                     Guinea       109.0  196.3440   31.9464   279.936   \n",
       "28                   Cameroon       108.0  290.8200   67.2030   353.700   \n",
       "106                Mozambique       101.0  131.9850   21.8299   193.578   \n",
       "87                    Lesotho        99.7  460.9800  129.8700  1181.700   \n",
       "99                 Mauritania        97.4  608.4000   52.9200   734.400   \n",
       "26                    Burundi        93.6   20.6052   26.7960    90.552   \n",
       "116                  Pakistan        92.1  140.4000   22.8800   201.760   \n",
       "94                     Malawi        90.5  104.6520   30.2481   160.191   \n",
       "150                      Togo        90.3  196.1760   37.3320   279.624   \n",
       "0                 Afghanistan        90.2   55.3000   41.9174   248.297   \n",
       "88                    Liberia        89.3   62.4570   38.5860   302.802   \n",
       "36                    Comoros        88.2  126.8850   34.6819   397.573   \n",
       "166                    Zambia        83.1  540.2000   85.9940   451.140   \n",
       "155                    Uganda        81.0  101.7450   53.6095   170.170   \n",
       "56                     Gambia        80.3  133.7560   31.9778   239.974   \n",
       "84                        Lao        78.9  403.5600   50.9580   562.020   \n",
       "142                     Sudan        76.7  291.5600   93.5360   254.560   \n",
       "59                      Ghana        74.7  386.4500   68.3820   601.290   \n",
       "147                  Tanzania        71.9  131.2740   42.1902   204.282   \n",
       "\n",
       "     income  inflation  life_expec  total_fer  gdpp  \n",
       "66     1500      5.450        32.1       3.33   662  \n",
       "132    1220     17.200        55.0       5.20   399  \n",
       "32     1930      6.390        56.5       6.59   897  \n",
       "31      888      2.010        47.5       5.21   446  \n",
       "97     1870      4.370        59.5       6.55   708  \n",
       "112     814      2.550        58.8       7.49   348  \n",
       "25     1430      6.810        57.9       5.87   575  \n",
       "37      609     20.800        57.5       6.54   334  \n",
       "64     1390      2.970        55.6       5.05   547  \n",
       "40     2690      5.390        56.3       5.27  1220  \n",
       "17     1820      0.885        61.8       5.36   758  \n",
       "63     1190     16.100        58.0       5.34   648  \n",
       "28     2660      1.910        57.3       5.11  1310  \n",
       "106     918      7.640        54.5       5.56   419  \n",
       "87     2380      4.150        46.5       3.30  1170  \n",
       "99     3320     18.900        68.2       4.98  1200  \n",
       "26      764     12.300        57.7       6.26   231  \n",
       "116    4280     10.900        65.3       3.85  1040  \n",
       "94     1030     12.100        53.1       5.31   459  \n",
       "150    1210      1.180        58.7       4.87   488  \n",
       "0      1610      9.440        56.2       5.82   553  \n",
       "88      700      5.470        60.8       5.02   327  \n",
       "36     1410      3.870        65.9       4.75   769  \n",
       "166    3280     14.000        52.0       5.40  1460  \n",
       "155    1540     10.600        56.8       6.15   595  \n",
       "56     1660      4.300        65.5       5.71   562  \n",
       "84     3980      9.200        63.8       3.15  1140  \n",
       "142    3370     19.600        66.3       4.88  1480  \n",
       "59     3060     16.600        62.2       4.27  1310  \n",
       "147    2090      9.250        59.3       5.43   702  "
      ]
     },
     "execution_count": 88,
     "metadata": {},
     "output_type": "execute_result"
    }
   ],
   "source": [
    "#Let's use the concept of binning\n",
    "fin_hc=dat[dat['child_mort']>68.47 ]\n",
    "fin_hc1=fin_hc[fin_hc['gdpp']<=2152.7]\n",
    "fundneed=fin_hc1.sort_values(['child_mort', 'gdpp'], ascending=[0, 0])\n",
    "fundneed"
   ]
  },
  {
   "cell_type": "code",
   "execution_count": 89,
   "metadata": {},
   "outputs": [
    {
     "data": {
      "text/plain": [
       "array(['Haiti', 'Sierra Leone', 'Chad', 'Central African Republic',\n",
       "       'Mali', 'Niger', 'Burkina Faso', 'Congo, Dem. Rep.',\n",
       "       'Guinea-Bissau', \"Cote d'Ivoire\", 'Benin', 'Guinea', 'Cameroon',\n",
       "       'Mozambique', 'Lesotho', 'Mauritania', 'Burundi', 'Pakistan',\n",
       "       'Malawi', 'Togo', 'Afghanistan', 'Liberia', 'Comoros', 'Zambia',\n",
       "       'Uganda', 'Gambia', 'Lao', 'Sudan', 'Ghana', 'Tanzania'],\n",
       "      dtype=object)"
      ]
     },
     "execution_count": 89,
     "metadata": {},
     "output_type": "execute_result"
    }
   ],
   "source": [
    "fundneed.country.values"
   ]
  },
  {
   "cell_type": "markdown",
   "metadata": {},
   "source": [
    "the list of contries the are common in both type of clusterings are same, but the top 5 choosen on the variables child_mort and gdpp are \n",
    "Haiti,\n",
    "sierra Leona\n",
    "chad\n",
    "Central African Republic\n",
    "Mali"
   ]
  },
  {
   "cell_type": "code",
   "execution_count": 82,
   "metadata": {},
   "outputs": [],
   "source": [
    "#dat.to_excel('dat1.xlsx', engine='xlsxwriter') "
   ]
  }
 ],
 "metadata": {
  "kernelspec": {
   "display_name": "Python 3",
   "language": "python",
   "name": "python3"
  },
  "language_info": {
   "codemirror_mode": {
    "name": "ipython",
    "version": 3
   },
   "file_extension": ".py",
   "mimetype": "text/x-python",
   "name": "python",
   "nbconvert_exporter": "python",
   "pygments_lexer": "ipython3",
   "version": "3.7.0"
  }
 },
 "nbformat": 4,
 "nbformat_minor": 2
}
